{
 "cells": [
  {
   "cell_type": "markdown",
   "id": "97a66317",
   "metadata": {},
   "source": [
    "# Blackjack"
   ]
  },
  {
   "cell_type": "markdown",
   "id": "3303f2b4",
   "metadata": {},
   "source": [
    "## Exercise 5.1"
   ]
  },
  {
   "cell_type": "markdown",
   "id": "8bb58cb5",
   "metadata": {},
   "source": [
    "To understand the shape of the state-value function, we have to understand that this is the state-value function for a specific policy, sticking on 20 or 21 and hitting otherwise, playing against another specific policy (which can be thought of as the environment dynamics), the dealer sticks on 17 or greater and hits otherwise. Now for the questions.\n",
    "\n",
    "1. Why does the estimated value function jump up for the last two rows in the rear?\n",
    "\n",
    "These rows correspond to our state being 20 or 21, regardless of what the dealer shows. These are the only states where we will stick, and thus will not bust, whereas any other state has a non-zero chance of busting.\n",
    "\n",
    "2. Why does it drop off for the whole last row on the left? \n",
    "\n",
    "This row corresponds to the dealer showing an ace, which has two advantages for the dealer. The first reason is that since an ace can count as an 11, the dealer has a high chance of hitting exactly 21 by drawing any 10 or face card. The second reason is the flexibility of an ace also being able to count as a 1 or an 11, meaning that in some sense the dealer can actually bust once when the ace counts as an 11, switch to counting it as a 1, and then get another chance of hitting to a value of 17 or greater. Since these are advantages to the dealer and this is a zero sum game, these are also disadvantages to the player, hence the drop-off in our state-value function/expected reward if the dealer is showing an ace.\n",
    "\n",
    "3. Why are the frontmost values higher in the upper diagrams than in the lower?\n",
    "\n",
    "The upper diagrams correspond to the player having a \"usable ace\", i.e. an ace that's currently being counted as an 11 but could be switched to being counted as a 1. Thus the same advantages described above are also true for the player in this case. In particular, having a usable ace and being at a current sum of 12 is better than being at a current sum of 12 without a usable ace since we have that extra buffer of essentially having a \"free\" bust, and thus a higher chance of actually hitting 20 or 21."
   ]
  },
  {
   "cell_type": "markdown",
   "id": "2cca4e9d",
   "metadata": {},
   "source": [
    "## Exercise 5.2"
   ]
  },
  {
   "cell_type": "markdown",
   "id": "8c1296a3",
   "metadata": {},
   "source": [
    "Q. Suppose every-visit MC was used instead of first-visit MC on the blackjack task. Would you expect the results to be very different? Why or why not? "
   ]
  },
  {
   "cell_type": "markdown",
   "id": "d9ce2c87",
   "metadata": {},
   "source": [
    "I wouldn't expect the results to be different for the blackjack task, since the difference between first-visit and every-visit MC is whether or not you update the expected reward for a given state on the first visit or on every visit **within** a single episode. \n",
    "\n",
    "In the blackjack task, it's very unlikely revisit the same state within a single episode. To see why, consider the three variables that can change: our current sum, whether or not we have a usable ace, and what the dealer is showing. Both our current sum and the dealer's current sums are strictly increasing on every action, with the exception of cases where we switch from a usable ace to a non-usable ace. Switching from having a usable ace to a non-usable ace is also non-reversible, with the exception of drawing another ace. The only way to revisit a state within the same episode is to draw multiple aces, for example:\n",
    "```\n",
    "Drawn card: A  ,  4  ,  9   ,  A \n",
    "State:     11/U, 15/U, 14/N , 15/U  \n",
    "```\n",
    "where the state is expressed as {current sum}/{U = usable ace, N = no usable ace}.\n",
    "\n",
    "Thus I believe that switching to every-visit MC would have little effect on the estimated state-value function or the number of episodes it takes to achieve convergence."
   ]
  },
  {
   "cell_type": "markdown",
   "id": "a7f4ec45",
   "metadata": {},
   "source": [
    "# Exercise 5.3"
   ]
  },
  {
   "cell_type": "markdown",
   "id": "2847001a",
   "metadata": {},
   "source": [
    "The backup diagram for Monte Carlo estimation of action-values looks very similar to the backup diagram presented on pg 95, but rather starting from a black-dot instead of a white circle, i.e. the root is a state-action pair rather than just a state, and we're still sampling a full trajectory before updating. "
   ]
  },
  {
   "cell_type": "markdown",
   "id": "530849fe",
   "metadata": {},
   "source": [
    "# Exercise 5.4"
   ]
  },
  {
   "cell_type": "markdown",
   "id": "ac781182",
   "metadata": {},
   "source": [
    "To simplify the code and use an online calculation of the average return for each state-action pair, we can just plug in the online formula for the mean, derived as follows:\n",
    "\n",
    "$\\overline{x}_n = \\frac{1}{n}\\sum_{i=0}^n x_i$  \n",
    "$ = \\frac{1}{n}[x_n + (n-1)\\frac{1}{n-1}\\sum_{i=0}^{n-1} x_i]$  \n",
    "$ = \\frac{1}{n}[x_n + (n-1)\\overline{x}_{n-1}]$  \n",
    "$ = \\overline{x}_{n-1} + \\frac{1}{n}(x_n - \\overline{x}_{n-1})$  \n",
    "\n",
    "Thus we can define a lookup table $N(s, a)$ that counts the number of times we've observed the state-action pair $(s, a)$, update the initialization to initialize $N(s, a)$ to 0 for all state-action pairs, and then change the last three lines of the pseudocode to read:  \n",
    "$N(S_{t+1}, A_{t+1}) \\leftarrow N(S_t, A_t) + 1$  \n",
    "$Q(S_{t+1}, A_{t+1}) \\leftarrow Q(S_t, A_t) + \\frac{1}{N(S_t, A_t)}(G - Q(S_t, A_t))$  \n",
    "\n",
    "with the argmax policy update remaining the same."
   ]
  },
  {
   "cell_type": "markdown",
   "id": "4ebcdb39",
   "metadata": {},
   "source": [
    "# Exercise 5.5"
   ]
  },
  {
   "cell_type": "markdown",
   "id": "0ccd749b",
   "metadata": {},
   "source": [
    "Q. Consider an MDP with a single nonterminal state and a single action that transitions back to the nonterminal state with probability $p$ and transitions to the terminal state with probability $1-p$. Let the reward be +1 on all transitions, and let $\\gamma = 1$. Suppose you observe one episode that lasts 10 steps, with a return of 10. \n",
    "\n",
    "What are the first-visit and every-visit estimators of the value of the nonterminal state?"
   ]
  },
  {
   "cell_type": "markdown",
   "id": "a3a11193",
   "metadata": {},
   "source": [
    "To answer this question, we have to look at how the total rewards are calculated at each time-step for the Monte Carlo estimation process. In particular, for each time-step $t$, we have:\n",
    "\n",
    "For each step of episode, $t = T-1, T-2, ... 0$:  \n",
    "$G \\leftarrow \\gamma G + R_{t+1}$\n",
    "\n",
    "So since we have $\\gamma = 1$, we can see that the rewards simply accumulate as we step backwards. \n",
    "\n",
    "For first-visit estimation, we would go all the way back to $t = 0$ to update our value estimate of the non-terminal state, at which point we'd have $G = 10$, giving an estimate of 10 for the value of the non-terminal state.\n",
    "\n",
    "For every-visit estimation, we would instead be averaging the expected return at each visit. Since the expected return is increasing by 1 at each iteration as we go backwards in time through the episode, and the number of visits is increasing, we'd expect our final estimate to be:  \n",
    "$V(s) = \\frac{1}{10}\\sum_{i=1}^{10} i = \\frac{1}{10} \\frac{10(10+1)}{2} = \\frac{11}{2} = 5.5$"
   ]
  },
  {
   "cell_type": "markdown",
   "id": "3d67cd2c",
   "metadata": {},
   "source": [
    "# Exercise 5.6"
   ]
  },
  {
   "cell_type": "markdown",
   "id": "046c43dd",
   "metadata": {},
   "source": [
    "Q. What is the equation analogous to (5.6) for action values $Q(s, a)$ instead of state values $V(s)$, again given returns generated using $b$?"
   ]
  },
  {
   "cell_type": "markdown",
   "id": "d3d81ab5",
   "metadata": {},
   "source": [
    "While I'm not totally sure, I think the main difference here is that we need to define our weighted averaging over state-action pairs instead of just states. To do this, we similary define $\\tau(s, a)$ to be the set of all time-steps at which the state-action pair $(s, a)$ was visited, and $T(t)$ to be the first end-of-episode after time-step $t$. Then we can similary write a weighted importance-sampling for $Q(s, a)$ as:\n",
    "\n",
    "$Q(s, a) = \\dfrac{\\sum_{t\\in\\tau(s, a)}\\rho_{t:T(t)-1}G_t}{\\sum_{t\\in\\tau(s, a)}\\rho_{t:T(t)-1}}$ "
   ]
  },
  {
   "cell_type": "markdown",
   "id": "cc1c60af",
   "metadata": {},
   "source": [
    "# Exercise 5.7"
   ]
  },
  {
   "cell_type": "markdown",
   "id": "7e3ef7a5",
   "metadata": {},
   "source": [
    "Q. In learning curves such as those shown in Figure 5.3 error generally decreases with training, as indeed happened for the ordinary importance-sampling method. But for the weighted importance-sampling method error first and then decreased. Why do you think this happened?"
   ]
  },
  {
   "cell_type": "markdown",
   "id": "0cf5d477",
   "metadata": {},
   "source": [
    "I believe this comes down to the fact that while weighted importance-sampling has lower variance than ordinary importance-sampling, it's statistically biased towards the value-function of the behavior policy. Since the behavior policy and the target policy are very different in this case, we'd expect the error to increase while weighted importance-sampling is converging towards the value-function of the behavior policy. However, with enough samples, the bias of weighted importance-sampling begins approaches zero, hence we see that the error decreases once our bias begins decreasing."
   ]
  },
  {
   "cell_type": "markdown",
   "id": "92e5c8fd",
   "metadata": {},
   "source": [
    "# Exercise 5.8"
   ]
  },
  {
   "cell_type": "markdown",
   "id": "0e427942",
   "metadata": {},
   "source": [
    "Q. The results with Example 5.5 and shown in Figure 5.4 used a first-visit MC method. Suppose that instead an every-visit MC method was used on the same problem. Would the variance of the estimator still be infinite? Why or why not? "
   ]
  },
  {
   "cell_type": "markdown",
   "id": "ed2f545b",
   "metadata": {},
   "source": [
    "The proof for the variance of the estimator being infinite under first-visit MC with ordinary importance sampling relied only on the episode returns, the episode probabilitites, and the squared importance ratios for all episode lengths. If we were to use every-visit MC instead of first-visit MC, we wouldn't expect any part of this calculation to change. The episode probabilities and importance ratios remain the same since the behavior and target policies are the same, and the episode returns are also unchanged. Thus we would expect the variance of the estimator to still be infinite."
   ]
  },
  {
   "cell_type": "markdown",
   "id": "aa7549d6",
   "metadata": {},
   "source": [
    "# Exercise 5.9"
   ]
  },
  {
   "cell_type": "markdown",
   "id": "da294b05",
   "metadata": {},
   "source": [
    "Q. Modify the algorithm for first-visit MC policy evaluation (Section 5.1) to\n",
    "use the incremental implementation for sample averages described in Section 2.4."
   ]
  },
  {
   "cell_type": "markdown",
   "id": "c2ce1595",
   "metadata": {},
   "source": [
    "I think this looks largely like the answer to exercise 5.4, but using state-value functions instead of action-value functions, i.e. we change the last two lines of the pseudocode to look like:\n",
    "\n",
    "$N(S_t) \\leftarrow N(S_t) + 1$  \n",
    "$V(S_t) \\leftarrow V(S_t) + \\frac{1}{N(S_t)}(G - V(S_t))$  \n",
    "where $N(S_t)$ is initialized to zero for all states and indicates the number of times the $V(S_t)$ has been updated.\n"
   ]
  },
  {
   "cell_type": "markdown",
   "id": "9de2b5c2",
   "metadata": {},
   "source": [
    "# Exercise 5.10"
   ]
  },
  {
   "cell_type": "markdown",
   "id": "a0d14d18",
   "metadata": {},
   "source": [
    "Q. Derive the weighted-average update rule (5.8) from (5.7). Follow the pattern of the derivation of the unweighted rule (2.3)."
   ]
  },
  {
   "cell_type": "markdown",
   "id": "38a7ab0f",
   "metadata": {},
   "source": [
    "We have the expression for the value function estimate at step $n$ as a weighted average of observed returns:  \n",
    "$V_{n+1} = \\frac{\\sum_{k=1}^{n}W_k G_k}{\\sum_{k=1}^{n}W_k}$  \n",
    "\n",
    "For ease of notation, we also define the cumulative sum of returns $C_n = \\sum_{k=1}^{n}W_k$. We can then derive the weighted-average update rule as follows:\n",
    "\n",
    "$V_{n+1} = \\frac{W_n G_n}{C_n} + \\frac{\\sum_{k=1}^{n-1}W_k G_k}{C_n}$ (Split out the weighted return from the current time step)  \n",
    "$= \\frac{1}{C_n}[W_n G_n + \\sum_{k=1}^{n-1}W_k G_k$ ]  \n",
    "$= \\frac{1}{C_n}[W_n G_n + \\frac{\\sum_{k=1}^{n-1}W_k G_k}{C_n} \\frac{C_{n-1}}{C_{n-1}} ]$ (Multiply by $\\frac{C_{n-1}}{C_{n-1}} = 1$)  \n",
    "$= \\frac{1}{C_n}[W_n G_n + V_n C_{n-1} ]$ (Simplify $\\frac{\\sum_{k=1}^{n-1}W_k G_k}{C_{n-1}} = V_n$)  \n",
    "$= \\frac{W_n G_n}{C_n} + V_n \\frac{C_{n-1}}{C_n}$  \n",
    "$= \\frac{W_n G_n}{C_n} + V_n \\frac{C_n - W_n}{C_n}$ (Rewrite $C_{n-1} = C_n - W_n$ by definition)  \n",
    "$= \\frac{W_n G_n}{C_n} + V_n (1 - \\frac{W_n}{C_n})$  \n",
    "$= V_n + \\frac{W_n}{C_n}G_n - \\frac{W_n}{C_n}V_n$  \n",
    "$V_{n+1} = V_n + \\frac{W_n}{C_n}[G_n - V_n]$  "
   ]
  },
  {
   "cell_type": "markdown",
   "id": "b28fce7a",
   "metadata": {},
   "source": [
    "# Exercise 5.11"
   ]
  },
  {
   "cell_type": "markdown",
   "id": "a62ba2ec",
   "metadata": {},
   "source": [
    "Q. In the boxed algorithm for off-policy MC control, you may have been expecting the $W$ update to have involved the importance-sampling ratio $\\frac{\\pi(A_t|S_t)}{b(A_t|S_t)}$, but instead it involves $\\frac{1}{b(A_t|S_t)}$. Why is this nevertheless correct?"
   ]
  },
  {
   "cell_type": "markdown",
   "id": "b467af35",
   "metadata": {},
   "source": [
    "Since we are only considering greedy policies $\\pi$, the probability for a given action $A_t$ from state $S_t$ is always either 1 or 0. \n",
    "\n",
    "In the case where $A_t \\neq \\pi(S_t)$, then our importance-sampling ratio is zero, and thus we can skip the rest of the episode since we know the updates from all further time-steps will be zero. This is handled in the \"exit inner loop\" statement in the pseudocode.\n",
    "\n",
    "In the case where $A_t = \\pi(S_t)$, then the probability of $A_t$ under $\\pi$ is simply 1, and thus we can just write the importance-sampling ratio as $\\frac{1}{b(A_t|S_t)} = \\frac{\\pi(A_t|S_t)}{b(A_t|S_t)}$."
   ]
  },
  {
   "cell_type": "markdown",
   "id": "f3529aef",
   "metadata": {},
   "source": [
    "# Exercise 5.12"
   ]
  },
  {
   "cell_type": "code",
   "execution_count": 80,
   "id": "1afcbb22",
   "metadata": {},
   "outputs": [],
   "source": [
    "import random\n",
    "\n",
    "from collections import namedtuple\n",
    "\n",
    "import numpy as np\n",
    "import pandas as pd\n",
    "import matplotlib.pyplot as plt\n",
    "import seaborn as sns\n",
    "\n",
    "from tqdm.notebook import trange\n",
    "from scipy.stats import norm"
   ]
  },
  {
   "cell_type": "code",
   "execution_count": 4,
   "id": "e6e3fafc",
   "metadata": {},
   "outputs": [],
   "source": [
    "class TrackGenerator():\n",
    "    pass\n",
    "\n",
    "class Straightaway(TrackGenerator):\n",
    "    def __init__(self, avg_width=10, std_dev=1):\n",
    "        self.avg_width = avg_width\n",
    "        self.dist = norm(loc=avg_width, scale=std_dev)\n",
    "    \n",
    "    def generateTrack(self, length, initial_width, seed=42):\n",
    "        curr_width = initial_width\n",
    "        widths = []\n",
    "        for i in range(length):\n",
    "            p_decrease = self.dist.cdf(curr_width - 0.5)\n",
    "            p_increase = self.dist.sf(curr_width + 0.5)\n",
    "            \n",
    "            r = np.random.random()\n",
    "            incr = 0\n",
    "            if r < p_decrease:\n",
    "                incr = -1\n",
    "            elif r < p_decrease + p_increase:\n",
    "                incr = 1\n",
    "            curr_width += incr\n",
    "            widths.append(curr_width)\n",
    "        return widths\n",
    "                \n",
    "        "
   ]
  },
  {
   "cell_type": "code",
   "execution_count": 5,
   "id": "1a9e36e0",
   "metadata": {},
   "outputs": [],
   "source": [
    "np.random.seed(42)\n",
    "before_turn_len = 20\n",
    "turn_len = 10\n",
    "after_turn_len = 10\n",
    "avg_width = 20\n",
    "stop_prob = 0.1\n",
    "\n",
    "mat = np.zeros((avg_width*3, before_turn_len+turn_len+after_turn_len+1))\n",
    "\n",
    "before_turn = Straightaway(avg_width=avg_width, std_dev=5)\n",
    "turn = Straightaway(avg_width=avg_width, std_dev=5)\n",
    "after_turn = Straightaway(avg_width=2*avg_width, std_dev=10)\n",
    "\n",
    "before_turn_widths = before_turn.generateTrack(before_turn_len, avg_width)\n",
    "turn_widths = turn.generateTrack(turn_len, before_turn_widths[-1])\n",
    "after_turn_widths = after_turn.generateTrack(after_turn_len, 2*avg_width)\n",
    "\n",
    "\n",
    "curr_x = 0\n",
    "curr_y = 0\n",
    "\n",
    "# Starting line\n",
    "mat[curr_x:curr_x+avg_width, 0] = 1\n",
    "\n",
    "# Initial straightaway\n",
    "for w in before_turn_widths:\n",
    "    curr_y += 1\n",
    "    mat[curr_x:curr_x+w, curr_y] = 1\n",
    "\n",
    "# Corner\n",
    "for w in turn_widths:\n",
    "    curr_x += 1\n",
    "    curr_y += 1\n",
    "    mat[curr_x:curr_x+w, curr_y] = 1\n",
    "    \n",
    "# Final straightaway\n",
    "end_x = curr_x + 2*avg_width\n",
    "for w in after_turn_widths:\n",
    "    curr_y += 1\n",
    "    mat[end_x-w:end_x-1, curr_y] = 1\n",
    "    mat[end_x-1, curr_y] = 2\n",
    "\n",
    "\n"
   ]
  },
  {
   "cell_type": "code",
   "execution_count": 6,
   "id": "2c35942f",
   "metadata": {},
   "outputs": [
    {
     "data": {
      "image/png": "[encoded data removed]",
      "text/plain": [
       "<Figure size 432x288 with 2 Axes>"
      ]
     },
     "metadata": {
      "needs_background": "light"
     },
     "output_type": "display_data"
    }
   ],
   "source": [
    "ax = sns.heatmap(mat.T)\n",
    "ax.invert_yaxis()\n"
   ]
  },
  {
   "cell_type": "code",
   "execution_count": 19,
   "id": "a32ff4db",
   "metadata": {},
   "outputs": [],
   "source": [
    "test = np.zeros((4, 3, 3, 3))"
   ]
  },
  {
   "cell_type": "code",
   "execution_count": 20,
   "id": "8eafea29",
   "metadata": {},
   "outputs": [
    {
     "data": {
      "text/plain": [
       "array([[0., 0., 0.],\n",
       "       [0., 0., 0.],\n",
       "       [0., 0., 0.]])"
      ]
     },
     "execution_count": 20,
     "metadata": {},
     "output_type": "execute_result"
    }
   ],
   "source": [
    "test[(2,1)]"
   ]
  },
  {
   "cell_type": "code",
   "execution_count": 58,
   "id": "c3eb6252",
   "metadata": {},
   "outputs": [
    {
     "data": {
      "text/plain": [
       "-1.7976931348623157e+308"
      ]
     },
     "execution_count": 58,
     "metadata": {},
     "output_type": "execute_result"
    }
   ],
   "source": [
    "np.finfo(float).min"
   ]
  },
  {
   "cell_type": "code",
   "execution_count": 21,
   "id": "c6597a21",
   "metadata": {},
   "outputs": [
    {
     "data": {
      "text/plain": [
       "0"
      ]
     },
     "execution_count": 21,
     "metadata": {},
     "output_type": "execute_result"
    }
   ],
   "source": [
    "np.random.choice()np.argmax(test[(2, 1)])"
   ]
  },
  {
   "cell_type": "code",
   "execution_count": 22,
   "id": "8ff8aafb",
   "metadata": {},
   "outputs": [
    {
     "data": {
      "text/plain": [
       "(0, 0)"
      ]
     },
     "execution_count": 22,
     "metadata": {},
     "output_type": "execute_result"
    }
   ],
   "source": [
    "idx = np.unravel_index(np.argmax(test[(2,1)]), test.shape[2:])\n",
    "idx"
   ]
  },
  {
   "cell_type": "code",
   "execution_count": null,
   "id": "03777b08",
   "metadata": {},
   "outputs": [],
   "source": []
  },
  {
   "cell_type": "code",
   "execution_count": 118,
   "id": "086839c7",
   "metadata": {},
   "outputs": [],
   "source": [
    "from enum import Enum\n",
    "\n",
    "State = namedtuple(\"State\", [\"x\", \"y\", \"vx\", \"vy\"])\n",
    "\n",
    "class Action(Enum):\n",
    "    DEC = 0\n",
    "    NC = 1\n",
    "    INC = 2\n",
    "\n",
    "\n",
    "def legalMove(vx, vy, dx, dy):\n",
    "    \"\"\"Check if a move is legal.\n",
    "    \n",
    "    We disallow any moves that would change either velocity component\n",
    "    to be outside of [0, max_v), or any move that would make both\n",
    "    velocity components zero.\n",
    "    \"\"\"\n",
    "    new_vx = vx + dx - 1\n",
    "    new_vy = vy + dy - 1\n",
    "    if new_vx < 0 or new_vx >= max_v or new_vy < 0 or new_vy >= max_v:\n",
    "        return False\n",
    "    if new_vx == 0 and new_vy == 0:\n",
    "        return False\n",
    "    return True\n",
    "    \n",
    "    \n",
    "    \n",
    "def initQ(max_x, max_y, num_actions):\n",
    "    Q = np.empty((max_x, max_y, max_v+1, max_v+1, num_actions, num_actions))\n",
    "    min_float = np.finfo(float).min\n",
    "    \n",
    "    \n",
    "    it = np.nditer(Q, flags=[\"multi_index\"], op_flags=[\"writeonly\"])\n",
    "    for val in it:\n",
    "        x, y, vx, vy, dx, dy = it.multi_index\n",
    "        if legalMove(vx, vy, dx, dy):\n",
    "            val[...] = min_float\n",
    "        else:\n",
    "            val[...] = np.NINF\n",
    "    return Q\n",
    "    \n",
    "def getAction(Q, state, eps=1e-2):\n",
    "    action_values = Q[state]\n",
    "    if np.random.random() < eps:\n",
    "        action = tuple(np.random.randint(num_actions, size=2))\n",
    "        while np.isinf(action_values[action]):\n",
    "            action = tuple(np.random.randint(num_actions, size=2))\n",
    "    else:\n",
    "        # Break argmax ties randomly, pretty important for getting episodes\n",
    "        # to end in a reasonable amount of time in early stages where few\n",
    "        # rewards have propagated back and thus many Q entries are zero.\n",
    "        idx = np.random.choice(np.flatnonzero(action_values == action_values.max()))\n",
    "        action = np.unravel_index(idx, action_values.shape)\n",
    "    return action\n",
    "            \n",
    "        \n",
    "    \n",
    "class Car():\n",
    "    def __init__(self, maxv):\n",
    "        self.vx = 0\n",
    "        self.vy = 0\n",
    "        self.maxv = maxv\n",
    "        \n",
    "        \n",
    "    def changeV(self, dx, dy):\n",
    "        self.vx += dx - 1\n",
    "        self.vy += dy - 1\n",
    "        assert self.vx >= 0\n",
    "        assert self.vy >= 0\n",
    "        assert self.vx <= self.maxv\n",
    "        assert self.vy <= self.maxv\n",
    "        \n",
    "    def reset(self):\n",
    "        self.vx = 0\n",
    "        self.vy = 0\n",
    "        \n",
    "    \n",
    "\n",
    "def runEpisode(track, Q, stop_prob=0.1):\n",
    "    car = Car(4)\n",
    "    max_x, max_y = track.shape\n",
    "    \n",
    "    # Start at random position on the starting line.\n",
    "    init_x = np.random.randint(0, avg_width)\n",
    "    state = State(init_x, 0, 0, 0)\n",
    "    \n",
    "    episode = []\n",
    "    step = 0\n",
    "    while True:\n",
    "        action = getAction(Q, state)\n",
    "        episode.append((state, action))\n",
    "        \n",
    "        car.changeV(*action)\n",
    "        if np.random.random() < stop_prob:\n",
    "            car.reset()\n",
    "        next_x = state.x + car.vx\n",
    "        next_y = state.y + car.vy\n",
    "        \n",
    "        if next_x < 0 or next_x >= max_x or next_y < 0 or next_y >= max_y or track[(next_x, next_y)] == 0:\n",
    "            next_x = np.random.randint(0, avg_width)\n",
    "            next_y = 0\n",
    "            car.reset()\n",
    "        if track[(next_x, next_y)] == 2:\n",
    "            break\n",
    "        \n",
    "        state = State(next_x, next_y, car.vx, car.vy)\n",
    "        step += 1\n",
    "        if step % 1e6 == 0:\n",
    "            print(f\"step: {step}\")\n",
    "    return episode\n",
    "\n",
    "def updateQ(Q, N, episode, gamma=0.9):\n",
    "    G = 0\n",
    "    for step in reversed(episode):\n",
    "        # All rewards are -1\n",
    "        G = gamma * G - 1\n",
    "        state, action = step\n",
    "        q = Q[state][action]\n",
    "        n = N[state][action] + 1\n",
    "        \n",
    "        N[state][action] = n\n",
    "        Q[state][action] = ((n-1) * q + G) / n\n",
    "\n",
    "def monteCarloControl(track, num_episodes=1000):\n",
    "    max_v = 4\n",
    "    max_x, max_y = mat.shape\n",
    "    num_actions = 3\n",
    "    actions = [-1, 0, 1]\n",
    "\n",
    "    Q = initQ(max_x, max_y, num_actions)\n",
    "    N = np.zeros_like(Q)\n",
    "    \n",
    "    episode_lengths = []\n",
    "    for i in trange(num_episodes):\n",
    "        episode = runEpisode(track, Q)\n",
    "        updateQ(Q, N, episode)\n",
    "        episode_lengths.append(len(episode))\n",
    "    return Q, episode_lengths\n"
   ]
  },
  {
   "cell_type": "code",
   "execution_count": 106,
   "id": "ddea9cbe",
   "metadata": {},
   "outputs": [
    {
     "data": {
      "image/png": "[encoded data removed]",
      "text/plain": [
       "<Figure size 432x288 with 1 Axes>"
      ]
     },
     "metadata": {
      "needs_background": "light"
     },
     "output_type": "display_data"
    }
   ],
   "source": [
    "plt.plot(np.arange(len(eps_length)), eps_length)\n",
    "plt.yscale(\"log\")"
   ]
  },
  {
   "cell_type": "code",
   "execution_count": 116,
   "id": "00d51c50",
   "metadata": {},
   "outputs": [],
   "source": [
    "cumsum = np.cumsum(eps_length)\n",
    "\n",
    "w = 100\n",
    "avgs = [(cumsum[i] - cumsum[i-w]) / w for i in range(10, len(eps_length))]"
   ]
  },
  {
   "cell_type": "code",
   "execution_count": 117,
   "id": "29483b7e",
   "metadata": {},
   "outputs": [
    {
     "data": {
      "image/png": "[encoded data removed]",
      "text/plain": [
       "<Figure size 432x288 with 1 Axes>"
      ]
     },
     "metadata": {
      "needs_background": "light"
     },
     "output_type": "display_data"
    }
   ],
   "source": [
    "plt.plot(np.arange(len(avgs)), avgs)\n",
    "plt.yscale(\"log\")"
   ]
  },
  {
   "cell_type": "code",
   "execution_count": 119,
   "id": "2f36981e",
   "metadata": {},
   "outputs": [],
   "source": [
    "example_trajectory = runEpisode(mat, Q, stop_prob=0)"
   ]
  },
  {
   "cell_type": "code",
   "execution_count": 124,
   "id": "6494f51a",
   "metadata": {
    "scrolled": true
   },
   "outputs": [
    {
     "data": {
      "image/png": "[encoded data removed]",
      "text/plain": [
       "<Figure size 432x288 with 2 Axes>"
      ]
     },
     "metadata": {
      "needs_background": "light"
     },
     "output_type": "display_data"
    }
   ],
   "source": [
    "example_mat = mat.copy()\n",
    "for state in example_trajectory:\n",
    "    example_mat[state[0].x, state[0].y] = 2\n",
    "    \n",
    "ax = sns.heatmap(example_mat.T)\n",
    "ax.invert_yaxis()\n"
   ]
  },
  {
   "cell_type": "code",
   "execution_count": 125,
   "id": "ef7a4463",
   "metadata": {},
   "outputs": [],
   "source": [
    "example_trajectory = runEpisode(mat, Q, stop_prob=0)"
   ]
  },
  {
   "cell_type": "code",
   "execution_count": 126,
   "id": "51d5c091",
   "metadata": {},
   "outputs": [
    {
     "data": {
      "image/png": "[encoded data removed]",
      "text/plain": [
       "<Figure size 432x288 with 2 Axes>"
      ]
     },
     "metadata": {
      "needs_background": "light"
     },
     "output_type": "display_data"
    }
   ],
   "source": [
    "example_mat = mat.copy()\n",
    "for state in example_trajectory:\n",
    "    example_mat[state[0].x, state[0].y] = 2\n",
    "    \n",
    "ax = sns.heatmap(example_mat.T)\n",
    "ax.invert_yaxis()\n"
   ]
  },
  {
   "cell_type": "code",
   "execution_count": null,
   "id": "2201a6c5",
   "metadata": {},
   "outputs": [],
   "source": []
  }
 ],
 "metadata": {
  "kernelspec": {
   "display_name": "Python 3 (ipykernel)",
   "language": "python",
   "name": "python3"
  },
  "language_info": {
   "codemirror_mode": {
    "name": "ipython",
    "version": 3
   },
   "file_extension": ".py",
   "mimetype": "text/x-python",
   "name": "python",
   "nbconvert_exporter": "python",
   "pygments_lexer": "ipython3",
   "version": "3.9.13"
  },
  "toc": {
   "base_numbering": 1,
   "nav_menu": {},
   "number_sections": true,
   "sideBar": true,
   "skip_h1_title": false,
   "title_cell": "Table of Contents",
   "title_sidebar": "Contents",
   "toc_cell": false,
   "toc_position": {},
   "toc_section_display": true,
   "toc_window_display": false
  }
 },
 "nbformat": 4,
 "nbformat_minor": 5
}
