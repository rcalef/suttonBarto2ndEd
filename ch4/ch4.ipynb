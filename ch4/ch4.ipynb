{
 "cells": [
  {
   "cell_type": "code",
   "execution_count": 1,
   "id": "6666c8bf",
   "metadata": {},
   "outputs": [],
   "source": [
    "import numpy as np\n",
    "import pandas as pd\n",
    "import matplotlib.pyplot as plt\n",
    "import seaborn as sns\n",
    "\n",
    "from scipy.stats import poisson"
   ]
  },
  {
   "cell_type": "markdown",
   "id": "cc937bf0",
   "metadata": {},
   "source": [
    "# Jack's Car Rental"
   ]
  },
  {
   "cell_type": "markdown",
   "id": "41aa6ec0",
   "metadata": {},
   "source": [
    "In this notebook, we'll be reimplementing a solution to the Jack's Car Rental problem given in Example 4.2 of Chapter 4 of [Reinforcement Learning: An Introduction](http://incompleteideas.net/book/the-book-2nd.html) by Richard Sutton and Andrew Barto. In addition to implementing a solution to the original problem, we will also answer the associated exercise questions."
   ]
  },
  {
   "cell_type": "markdown",
   "id": "76b0e2ee",
   "metadata": {},
   "source": [
    "## Initial solution"
   ]
  },
  {
   "cell_type": "markdown",
   "id": "e8496698",
   "metadata": {},
   "source": [
    "The initial problem setup is that Jack's Car Rental has two locations, each of which has a different demand for rentals and rate of rentals being returned to that location. After the businesses close each night, Jack can pay to shuttle cars from one location to another. The goal here is to find the optimal number of cars to shuttle between the two locations given the number of cars at each location at the end of the business day.\n",
    "\n",
    "In particular, the number of rentals and returns per day at each location are Poisson distributed with a mean of 3 rentals and 3 returns at the first location, and 4 rentals and 2 returns at the second location. Jack makes \\\\$10 for each car he can rent on a given day (rental requests in excess of the number of cars available are unfulfilled and are missed sales), and pays \\\\$2 per car to shuttle overnight. Jack can also only move a maximum of 5 cars per night, and each location can hold at most 20 cars, any excess cars are imagined to be shuttled off to some other locations for the national chain.\n",
    "\n",
    "To map this problem statement to the reinforcement learning terminology, the number of cars at each location the end of the day is the state, the actions are the number of cars to shuttle overnight, the reward is the net profit for the day, and the policy is then how many cars to shuttle given a particular number of cars at each location to maximize the profit."
   ]
  },
  {
   "cell_type": "code",
   "execution_count": 2,
   "id": "7f3d84ea",
   "metadata": {},
   "outputs": [
    {
     "data": {
      "text/plain": [
       "<matplotlib.collections.PathCollection at 0x1425f0a60>"
      ]
     },
     "execution_count": 2,
     "metadata": {},
     "output_type": "execute_result"
    },
    {
     "data": {
      "image/png": "[encoded data removed]",
      "text/plain": [
       "<Figure size 432x288 with 1 Axes>"
      ]
     },
     "metadata": {
      "needs_background": "light"
     },
     "output_type": "display_data"
    }
   ],
   "source": [
    "# Since we have Poisson random variables here, which theoretically could\n",
    "# lead to an infinite number of cars being rented or returned, we want to\n",
    "# understand what's a reasonable number of rentals or returns with\n",
    "# non-trivial probability to use as a maximum for our calculations.\n",
    "# Based on the plot below, 14 seems reasonable.\n",
    "x = np.arange(0, 20)\n",
    "y = poisson.pmf(x, 4)\n",
    "plt.scatter(x, y)"
   ]
  },
  {
   "cell_type": "code",
   "execution_count": 3,
   "id": "2493851d",
   "metadata": {},
   "outputs": [],
   "source": [
    "# Maximum number of cars per location.\n",
    "max_cars = 20\n",
    "# Actual dimension of state matrix (since we can also have 0 cars).\n",
    "d = max_cars+1\n",
    "# Maximum number of cars we can move per night.\n",
    "max_move = 5\n",
    "# Maximum value of number of rentals and returns to consider.\n",
    "max_poisson = 14\n",
    "\n",
    "# Mean number of rentals and returns per location.\n",
    "loc1_rent_mean = 3\n",
    "loc1_return_mean = 3\n",
    "loc2_rent_mean = 4\n",
    "loc2_return_mean = 2\n",
    "\n",
    "# Reward for rentals.\n",
    "rent_reward = 10\n",
    "# Cost for moving a car overnight.\n",
    "move_cost = -2\n",
    "# Discount factor.\n",
    "gamma = 0.9"
   ]
  },
  {
   "cell_type": "markdown",
   "id": "4d550b03",
   "metadata": {},
   "source": [
    "In order to use policy iteration to solve this problem, we need to be able to write down the probability of transitioning from one state to another. Since the number of rentals and returns are a random variable, there are multiple numbers of rentals and returns that can result in the same state transition. For example, we could go from 15 cars to 12 cars as a result of 3 rentals and 0 returns, 4 rentals and 1 return, etc. Since each of these numbers of rentals/returns have a different probability (coming from the Poisson distribution), we want to sum the probability of all the combinations to get the total probabilty of a given state transition. Since these probabilities aren't changing over time, we can precompute them to speed up our policy iteration process.\n",
    "\n",
    "In addition to precomputing the state transition probabilities over some grid of reasonable rental/return values, we can also precompute the expected reward coming from rentals alone, since this is only a function of the number of cars (i.e. the state) and the distribution of the number of rentals/returns (which we know). We can then add in the cost associated with our action when we actually perform the policy iteration process.\n",
    "\n",
    "These transition probabilities and expected rewards will be stored in a 4D array, where the first and second dimensions are the current state and the third and fourth dimensions are the future state: [curr_cars_loc1, curr_cars_loc2, next_cars_loc1, next_cars_loc2]"
   ]
  },
  {
   "cell_type": "code",
   "execution_count": 4,
   "id": "1f54c78c",
   "metadata": {},
   "outputs": [],
   "source": [
    "# Precompute Poisson PMF out to the maximum amount.\n",
    "def populatePoisLookup(mean, max_val=max_poisson):\n",
    "    return poisson(mean).pmf(np.arange(max_val+1))\n",
    "\n",
    "loc1_rent_dist = populatePoisLookup(loc1_rent_mean)\n",
    "loc1_return_dist = populatePoisLookup(loc1_return_mean)\n",
    "loc2_rent_dist = populatePoisLookup(loc2_rent_mean)\n",
    "loc2_return_dist = populatePoisLookup(loc2_return_mean)"
   ]
  },
  {
   "cell_type": "code",
   "execution_count": 60,
   "id": "a250e696",
   "metadata": {},
   "outputs": [],
   "source": [
    "# Calculate transition probabilities and expected rewards for each\n",
    "# possible state given a current state.\n",
    "def calculate_one_state(curr_loc1, curr_loc2):\n",
    "    expected_reward = np.zeros((d, d))\n",
    "    transition_prob = np.zeros((d, d))\n",
    "    \n",
    "    # Iterate over number of rentals and returns at each location,\n",
    "    # capping the number of rentals to be at most the number of cars\n",
    "    # at the location, and capping the final number of cars after returns\n",
    "    # to be at most `max_cars`.\n",
    "    for rent1 in range(max_poisson):\n",
    "        for rent2 in range(max_poisson):\n",
    "            # Probabilities of number of rental requests at each location.\n",
    "            p_rent1 = loc1_rent_dist[rent1]\n",
    "            p_rent2 = loc2_rent_dist[rent2]\n",
    "\n",
    "            # Number of cars actually rented (i.e. at most the number\n",
    "            # of available cars). Note that cars become available for\n",
    "            # rent the next day, so we don't include the number of returns\n",
    "            # in the number of cars available for rent.\n",
    "            actual_rent1 = min(rent1, curr_loc1)\n",
    "            actual_rent2 = min(rent2, curr_loc2)\n",
    "            \n",
    "            for return1 in range(max_poisson):\n",
    "                for return2 in range(max_poisson):\n",
    "                    # Probabilities of number of returns.\n",
    "                    p_return1 = loc1_return_dist[return1]\n",
    "                    p_return2 = loc2_return_dist[return2]\n",
    "                    \n",
    "                    # What's the state we end up in after this number of \n",
    "                    # rentals and returns, capped at being at most the\n",
    "                    # maximum number of cars per location.\n",
    "                    future_loc1 = min(curr_loc1 + return1 - actual_rent1, max_cars)\n",
    "                    future_loc2 = min(curr_loc2 + return2 - actual_rent2, max_cars)\n",
    "\n",
    "                    # Total probability of this number of rental requests\n",
    "                    # and returns at both locations.\n",
    "                    total_p = p_rent1*p_rent2*p_return1*p_return2\n",
    "                    # Actual reward from rentals.\n",
    "                    reward = (actual_rent1 + actual_rent2)*rent_reward\n",
    "\n",
    "                    # Add the transition probability and probability-weighted\n",
    "                    # reward for the future state for this specific combination\n",
    "                    # of rentals and returns.\n",
    "                    transition_prob[future_loc1, future_loc2] += total_p\n",
    "                    expected_reward[future_loc1, future_loc2] += total_p*reward\n",
    "            \n",
    "    return transition_prob, expected_reward\n",
    "\n",
    "# Calculate transition probabilities and expected rewards for every combination \n",
    "# of current state and future state.\n",
    "def calculate_all_states(calculate_fn=calculate_one_state):\n",
    "    expected_reward = np.zeros((d, d, d, d))\n",
    "    transition_prob = np.zeros((d, d, d, d))\n",
    "    for curr_loc1, curr_loc2 in np.ndindex((d, d)):\n",
    "        p, r = calculate_one_state(curr_loc1, curr_loc2)\n",
    "        \n",
    "        # Since `p` represents the probability of transitioning to any other\n",
    "        # possible state from (curr1, curr2), good to sanity check that total\n",
    "        # probability is close to 1 despite our simplification of only considering\n",
    "        # at most 14 rentals/returns.\n",
    "        assert(1 - p.sum() < 1e-4)\n",
    "        \n",
    "        transition_prob[curr_loc1, curr_loc2] = p       \n",
    "        expected_reward[curr_loc1, curr_loc2] = r\n",
    "        \n",
    "    return transition_prob, expected_reward"
   ]
  },
  {
   "cell_type": "code",
   "execution_count": 6,
   "id": "d8a75f6a",
   "metadata": {},
   "outputs": [],
   "source": [
    "transition_probs, expected_rewards = calculate_all_states()"
   ]
  },
  {
   "cell_type": "code",
   "execution_count": 7,
   "id": "600e779d",
   "metadata": {},
   "outputs": [
    {
     "data": {
      "image/png": "[encoded data removed]",
      "text/plain": [
       "<Figure size 432x288 with 2 Axes>"
      ]
     },
     "metadata": {
      "needs_background": "light"
     },
     "output_type": "display_data"
    }
   ],
   "source": [
    "ax = sns.heatmap(expected_rewards[15,10])\n",
    "ax.invert_yaxis()"
   ]
  },
  {
   "cell_type": "code",
   "execution_count": 14,
   "id": "080cfcb8",
   "metadata": {},
   "outputs": [
    {
     "data": {
      "text/plain": [
       "array([[0.10861078, 0.17725822, 0.25349282, 0.31290248, 0.32863131,\n",
       "        0.28986085],\n",
       "       [0.21265116, 0.34542909, 0.49142778, 0.60315688, 0.62962427,\n",
       "        0.55186647],\n",
       "       [0.36121306, 0.58377641, 0.82581004, 1.00720627, 1.04425394,\n",
       "        0.90879519],\n",
       "       [0.52586341, 0.84532533, 1.18856398, 1.43981349, 1.48164855,\n",
       "        1.27927709],\n",
       "       [0.64885542, 1.03735242, 1.4494834 , 1.74347646, 1.7799898 ,\n",
       "        1.52383562],\n",
       "       [0.67316997, 1.0705712 , 1.48681699, 1.77588742, 1.79873879,\n",
       "        1.52656734],\n",
       "       [0.58592217, 0.9273782 , 1.28078075, 1.51987098, 1.52795994,\n",
       "        1.28602463],\n",
       "       [0.42986175, 0.67756493, 0.93121616, 1.09871402, 1.09718905,\n",
       "        0.91650781]])"
      ]
     },
     "execution_count": 14,
     "metadata": {},
     "output_type": "execute_result"
    }
   ],
   "source": [
    "expected_rewards[15,10, 10:18, 4:10]"
   ]
  },
  {
   "cell_type": "code",
   "execution_count": 8,
   "id": "15dfff11",
   "metadata": {},
   "outputs": [
    {
     "data": {
      "image/png": "[encoded data removed]",
      "text/plain": [
       "<Figure size 432x288 with 2 Axes>"
      ]
     },
     "metadata": {
      "needs_background": "light"
     },
     "output_type": "display_data"
    }
   ],
   "source": [
    "ax = sns.heatmap(expected_rewards[10,6])\n",
    "ax.invert_yaxis()"
   ]
  },
  {
   "cell_type": "code",
   "execution_count": 56,
   "id": "8d1b1b59",
   "metadata": {},
   "outputs": [],
   "source": [
    "# Actual policy iteration code. As in Sutton, we implement the policy\n",
    "# as a matrix of values where the value indicates the number of cars\n",
    "# to move from location 1 to location 2 and a negative value indicates\n",
    "# instead moving cars from location 2 to location 1.\n",
    "\n",
    "# Calculate the state value function for a single state given\n",
    "# our current action at this state.\n",
    "def backup_one(value_fn, num_move, curr_loc1, curr_loc2):\n",
    "    curr1_after_move = min(curr_loc1 - num_move, max_cars)\n",
    "    curr2_after_move = min(curr_loc2 + num_move, max_cars)\n",
    "    \n",
    "    val = 0\n",
    "    for future_loc1, future_loc2 in np.ndindex(value_fn.shape):\n",
    "        r = expected_rewards[curr1_after_move, curr2_after_move,\n",
    "                             future_loc1, future_loc2]\n",
    "        p = transition_probs[curr1_after_move, curr2_after_move,\n",
    "                             future_loc1, future_loc2]\n",
    "        \n",
    "        # Note that the expected reward is already weighted by the\n",
    "        # appropriate probabilities of rentals/returns, so it's excluded\n",
    "        # from being multiplied by the state transition probability here.\n",
    "        this_reward = r + p * gamma * value_fn[future_loc1, future_loc2]\n",
    "        val += this_reward\n",
    "\n",
    "    # Add in cost from moving cars.\n",
    "    return val + np.abs(num_move)*move_cost\n",
    "\n",
    "# Run one round of in-place policy evaluation until convergence.\n",
    "def evaluate(value_fn, policy, backup_fn=backup_one):\n",
    "    # Store state-value function before policy evaluation so we\n",
    "    # can see if current policy is equivalent to previous one by\n",
    "    # checking the delta for all states. Note that this also answers\n",
    "    # exercise 4.4 (see below for explanation).\n",
    "    prev_value_fn = np.copy(value_fn)\n",
    "    \n",
    "    # Iterate value function evaluation until delta is sufficiently small.\n",
    "    while True:\n",
    "        iter_delta = 0\n",
    "        for curr_loc1, curr_loc2 in np.ndindex(value_fn.shape):\n",
    "            new_val = backup_fn(value_fn,\n",
    "                                 policy[curr_loc1, curr_loc2],\n",
    "                                 curr_loc1,\n",
    "                                 curr_loc2)\n",
    "            iter_delta = max(np.abs(new_val - value_fn[curr_loc1, curr_loc2]),\n",
    "                        iter_delta)\n",
    "\n",
    "            value_fn[curr_loc1, curr_loc2] = new_val\n",
    "       # break\n",
    "        if iter_delta <= 1e-4:\n",
    "            break\n",
    "            \n",
    "    # Check if new policy is equivalent to previous.\n",
    "    return np.all(np.isclose(prev_value_fn, value_fn))\n",
    "\n",
    "# Run one round of policy improvement using greedy best move.\n",
    "def iterate(value_fn, policy, backup_fn=backup_one):\n",
    "    # Identify greedy best move for each state. Also check if the policy\n",
    "    # is stable.\n",
    "    is_stable = True\n",
    "    for curr_loc1, curr_loc2 in np.ndindex(value_fn.shape):\n",
    "        best_move = 0\n",
    "        best_val = 0\n",
    "        for num_move in np.arange(-max_move, max_move+1):\n",
    "            # Ignore moves that exceed the number of available cars.\n",
    "            if num_move > curr_loc1 or -num_move > curr_loc2:\n",
    "                continue\n",
    "            \n",
    "            # Expected reward for taking this action from this state.\n",
    "            check_val = backup_fn(value_fn, num_move, curr_loc1, curr_loc2)\n",
    "            \n",
    "            if check_val > best_val:\n",
    "                best_val = check_val\n",
    "                best_move = num_move\n",
    "                \n",
    "        if best_move != policy[curr_loc1, curr_loc2]:\n",
    "            is_stable = False\n",
    "        policy[curr_loc1, curr_loc2] = best_move\n",
    "    return is_stable\n",
    "\n",
    "def policy_iteration(backup_fn=backup_one):\n",
    "    value_fn = np.zeros((d, d))\n",
    "    policy = np.zeros((d, d), dtype=int)\n",
    "    \n",
    "    i = 0\n",
    "    while True:\n",
    "        is_equiv = evaluate(value_fn, policy, backup_fn=backup_fn)\n",
    "        stable_policy = iterate(value_fn, policy, backup_fn=backup_fn)\n",
    "        print(f\"iter {i}: is_equiv={is_equiv}, stable={stable_policy}\")\n",
    "        i += 1\n",
    "        if stable_policy or is_equiv:\n",
    "            break\n",
    "    return value_fn, policy"
   ]
  },
  {
   "cell_type": "code",
   "execution_count": 57,
   "id": "1284b34a",
   "metadata": {},
   "outputs": [
    {
     "name": "stdout",
     "output_type": "stream",
     "text": [
      "iter 0: is_equiv=False, stable=False\n",
      "iter 1: is_equiv=False, stable=False\n",
      "iter 2: is_equiv=False, stable=False\n",
      "iter 3: is_equiv=False, stable=False\n",
      "iter 4: is_equiv=False, stable=False\n",
      "iter 5: is_equiv=True, stable=True\n"
     ]
    }
   ],
   "source": [
    "optimal_v, optimal_p = policy_iteration()"
   ]
  },
  {
   "cell_type": "code",
   "execution_count": 58,
   "id": "f34863de",
   "metadata": {
    "scrolled": true
   },
   "outputs": [
    {
     "data": {
      "image/png": "[encoded data removed]",
      "text/plain": [
       "<Figure size 432x288 with 2 Axes>"
      ]
     },
     "metadata": {
      "needs_background": "light"
     },
     "output_type": "display_data"
    }
   ],
   "source": [
    "ax = sns.heatmap(optimal_p, annot=True)\n",
    "ax.invert_yaxis()"
   ]
  },
  {
   "cell_type": "code",
   "execution_count": 59,
   "id": "72f88317",
   "metadata": {
    "scrolled": true
   },
   "outputs": [
    {
     "data": {
      "image/png": "[encoded data removed]",
      "text/plain": [
       "<Figure size 432x288 with 2 Axes>"
      ]
     },
     "metadata": {
      "needs_background": "light"
     },
     "output_type": "display_data"
    }
   ],
   "source": [
    "ax = sns.heatmap(optimal_v)\n",
    "ax.invert_yaxis()"
   ]
  },
  {
   "cell_type": "markdown",
   "id": "81507411",
   "metadata": {},
   "source": [
    "While our exact optimal policy seems as if it differs from that shown in figure 4.2 of the textbook (somewhat hard to tell since we have to guess based off rectangle widths), the overall shape of the policy contours look correct and the final state-value function has the same shape and scale."
   ]
  },
  {
   "cell_type": "markdown",
   "id": "458f43c6",
   "metadata": {},
   "source": [
    "## Exercise 4.4"
   ]
  },
  {
   "cell_type": "markdown",
   "id": "ded95ea3",
   "metadata": {},
   "source": [
    "Note our modification in the policy evaluation step: check if the optimal state-value function for this policy is equal (within some epsilon) to the previous one at all states. By the policy improvement theorem, we know that our state-value function will be strictly increasing throughout the policy iteration process, so if we reach two policies that have equal state-value functions, then we know that both policies are optimal (can also see pg 79 of the textbook for more details)."
   ]
  },
  {
   "cell_type": "markdown",
   "id": "db740d08",
   "metadata": {},
   "source": [
    "## Exercise 4.5"
   ]
  },
  {
   "cell_type": "markdown",
   "id": "0d71a2f4",
   "metadata": {},
   "source": [
    "## Exercise 4.7"
   ]
  },
  {
   "cell_type": "markdown",
   "id": "ded83b6a",
   "metadata": {},
   "source": [
    "One of Jack’s employees at the first location\n",
    "rides a bus home each night and lives near the second location. She is happy to shuttle\n",
    "one car to the second location for free. Each additional car still costs $2, as do all cars\n",
    "moved in the other direction. In addition, Jack has limited parking space at each location.\n",
    "If more than 10 cars are kept overnight at a location (after any moving of cars), then an\n",
    "additional cost of \\\\$4 must be incurred to use a second parking lot (independent of how\n",
    "many cars are kept there). "
   ]
  },
  {
   "cell_type": "code",
   "execution_count": 61,
   "id": "238e8317",
   "metadata": {},
   "outputs": [],
   "source": [
    "# Calculate transition probabilities and expected rewards for each\n",
    "# possible state given a current state.\n",
    "def calculate_one_state_47(curr_loc1, curr_loc2):\n",
    "    expected_reward = np.zeros((d, d))\n",
    "    transition_prob = np.zeros((d, d))\n",
    "    \n",
    "    # Iterate over number of rentals and returns at each location,\n",
    "    # capping the number of rentals to be at most the number of cars\n",
    "    # at the location, and capping the final number of cars after returns\n",
    "    # to be at most `max_cars`.\n",
    "    for rent1 in range(max_poisson):\n",
    "        for rent2 in range(max_poisson):\n",
    "            # Probabilities of number of rental requests at each location.\n",
    "            p_rent1 = loc1_rent_dist[rent1]\n",
    "            p_rent2 = loc2_rent_dist[rent2]\n",
    "\n",
    "            # Number of cars actually rented (i.e. at most the number\n",
    "            # of available cars). Note that cars become available for\n",
    "            # rent the next day, so we don't include the number of returns\n",
    "            # in the number of cars available for rent.\n",
    "            actual_rent1 = min(rent1, curr_loc1)\n",
    "            actual_rent2 = min(rent2, curr_loc2)\n",
    "            \n",
    "            for return1 in range(max_poisson):\n",
    "                for return2 in range(max_poisson):\n",
    "                    # Probabilities of number of returns.\n",
    "                    p_return1 = loc1_return_dist[return1]\n",
    "                    p_return2 = loc2_return_dist[return2]\n",
    "                    \n",
    "                    # What's the state we end up in after this number of \n",
    "                    # rentals and returns, capped at being at most the\n",
    "                    # maximum number of cars per location.\n",
    "                    future_loc1 = min(curr_loc1 + return1 - actual_rent1, max_cars)\n",
    "                    future_loc2 = min(curr_loc2 + return2 - actual_rent2, max_cars)\n",
    "\n",
    "                    # Total probability of this number of rental requests\n",
    "                    # and returns at both locations.\n",
    "                    total_p = p_rent1*p_rent2*p_return1*p_return2\n",
    "                    # Actual reward from rentals.\n",
    "                    reward = (actual_rent1 + actual_rent2)*rent_reward\n",
    "                    \n",
    "                    # Storage penalty of $4 per location if more than 10 cars.\n",
    "                    if future_loc1 > 10:\n",
    "                        reward -= 4\n",
    "                    if future_loc2 > 10:\n",
    "                        reward -= 4\n",
    "\n",
    "                    # Add the transition probability and probability-weighted\n",
    "                    # reward for the future state for this specific combination\n",
    "                    # of rentals and returns.\n",
    "                    transition_prob[future_loc1, future_loc2] += total_p\n",
    "                    expected_reward[future_loc1, future_loc2] += total_p*reward\n",
    "            \n",
    "    return transition_prob, expected_reward"
   ]
  },
  {
   "cell_type": "code",
   "execution_count": 62,
   "id": "f3413d18",
   "metadata": {},
   "outputs": [],
   "source": [
    "transition_prob_47, expected_rewards_47 = calculate_all_states(calculate_fn=calculate_one_state_47)"
   ]
  },
  {
   "cell_type": "code",
   "execution_count": 69,
   "id": "ce26b346",
   "metadata": {},
   "outputs": [],
   "source": [
    "# Calculate the state value function for a single state given\n",
    "# our current action at this state.\n",
    "def backup_one_47(value_fn, num_move, curr_loc1, curr_loc2):\n",
    "    curr1_after_move = min(curr_loc1 - num_move, max_cars)\n",
    "    curr2_after_move = min(curr_loc2 + num_move, max_cars)\n",
    "    \n",
    "    val = 0\n",
    "    for future_loc1, future_loc2 in np.ndindex(value_fn.shape):\n",
    "        r = expected_rewards_47[curr1_after_move, curr2_after_move,\n",
    "                             future_loc1, future_loc2]\n",
    "        p = transition_prob_47[curr1_after_move, curr2_after_move,\n",
    "                             future_loc1, future_loc2]\n",
    "        \n",
    "        # Note that the expected reward is already weighted by the\n",
    "        # appropriate probabilities of rentals/returns, so it's excluded\n",
    "        # from being multiplied by the state transition probability here.\n",
    "        this_reward = r + p * gamma * value_fn[future_loc1, future_loc2]\n",
    "        val += this_reward\n",
    "\n",
    "    # Add in cost from moving cars.\n",
    "    move_penalty = np.abs(num_move)*move_cost\n",
    "    # If moving cars from first location to second location,\n",
    "    # then one car moves for free.\n",
    "    if num_move >= 1:\n",
    "        move_penalty -= move_cost\n",
    "        \n",
    "    return val + move_penalty"
   ]
  },
  {
   "cell_type": "code",
   "execution_count": 70,
   "id": "c02bb7d5",
   "metadata": {},
   "outputs": [
    {
     "name": "stdout",
     "output_type": "stream",
     "text": [
      "iter 0: is_equiv=False, stable=False\n",
      "iter 1: is_equiv=False, stable=False\n",
      "iter 2: is_equiv=False, stable=False\n",
      "iter 3: is_equiv=False, stable=False\n",
      "iter 4: is_equiv=False, stable=True\n"
     ]
    }
   ],
   "source": [
    "optimal_v_47, optimal_p_47 = policy_iteration(backup_fn=backup_one_47)"
   ]
  },
  {
   "cell_type": "code",
   "execution_count": 71,
   "id": "5f9071c4",
   "metadata": {
    "scrolled": true
   },
   "outputs": [
    {
     "data": {
      "image/png": "[encoded data removed]",
      "text/plain": [
       "<Figure size 432x288 with 2 Axes>"
      ]
     },
     "metadata": {
      "needs_background": "light"
     },
     "output_type": "display_data"
    }
   ],
   "source": [
    "ax = sns.heatmap(optimal_p_47, annot=True)\n",
    "ax.invert_yaxis()"
   ]
  },
  {
   "cell_type": "code",
   "execution_count": 72,
   "id": "6c5b4f6b",
   "metadata": {
    "scrolled": true
   },
   "outputs": [
    {
     "data": {
      "image/png": "[encoded data removed]",
      "text/plain": [
       "<Figure size 432x288 with 2 Axes>"
      ]
     },
     "metadata": {
      "needs_background": "light"
     },
     "output_type": "display_data"
    }
   ],
   "source": [
    "ax = sns.heatmap(optimal_v_47)\n",
    "ax.invert_yaxis()"
   ]
  },
  {
   "cell_type": "code",
   "execution_count": null,
   "id": "cdf9f2a9",
   "metadata": {},
   "outputs": [],
   "source": []
  },
  {
   "cell_type": "markdown",
   "id": "afae9e43",
   "metadata": {},
   "source": [
    "# Gambler's Problem"
   ]
  },
  {
   "cell_type": "markdown",
   "id": "0a11d5a1",
   "metadata": {},
   "source": [
    "## Initial solution"
   ]
  },
  {
   "cell_type": "code",
   "execution_count": 147,
   "id": "933aa946",
   "metadata": {},
   "outputs": [],
   "source": [
    "end_val = 100\n",
    "p_heads = 0.4\n",
    "p_tails = 1-p_heads"
   ]
  },
  {
   "cell_type": "code",
   "execution_count": 148,
   "id": "13bdccc6",
   "metadata": {},
   "outputs": [],
   "source": [
    "def calc_wager_value(value_fn, state, wager):\n",
    "    win_state = state + wager\n",
    "    lose_state = state - wager\n",
    "\n",
    "    return p_tails*value_fn[lose_state] + p_heads*value_fn[win_state]\n",
    "\n",
    "def single_iterate(value_fn):\n",
    "    max_delta = 0\n",
    "    for state in reversed(np.arange(end_val)):\n",
    "        \n",
    "        possible_wagers = np.arange(0, min(state, end_val-state)+1)\n",
    "        \n",
    "        max_val = 0\n",
    "        for w in possible_wagers:\n",
    "            val = calc_wager_value(value_fn, state, w)\n",
    "            if val > max_val:\n",
    "                max_val = val\n",
    "                \n",
    "        this_delta = np.abs(max_val - value_fn[state])\n",
    "        if this_delta > max_delta:\n",
    "            max_delta = this_delta\n",
    "            \n",
    "        value_fn[state] = max_val\n",
    "    return max_delta\n",
    "\n",
    "def value_iterate():\n",
    "    value_fn = np.zeros(end_val+1)\n",
    "    value_fn[end_val] = 1\n",
    "    \n",
    "    i = 0\n",
    "    while True:\n",
    "        delta = single_iterate(value_fn)\n",
    "        print(f\"iter {i}: {delta:0.4f}\")\n",
    "        \n",
    "        if delta < 1e-6:\n",
    "            break\n",
    "        i += 1\n",
    "    return value_fn\n",
    "\n",
    "def policy_from_value(value_fn):\n",
    "    policy = np.zeros(end_val)\n",
    "    for state in np.arange(end_val):\n",
    "        best_val = 0\n",
    "        best_wager = 0\n",
    "        for wager in  np.arange(0, min(state, end_val-state)+1):\n",
    "            wager_val = calc_wager_value(value_fn, state, wager)\n",
    "            if (wager_val - best_val) > 1e-7:\n",
    "                best_val = wager_val\n",
    "                best_wager = wager\n",
    "        policy[state] = best_wager\n",
    "    return policy\n",
    "\n",
    "# def policy_from_value_book_figure(value_fn):\n",
    "#     policy = np.zeros(end_val)\n",
    "#     for state in np.arange(end_val):\n",
    "#         best_val = 0\n",
    "#         best_wager = 0\n",
    "#         for wager in reversed(np.arange(0, min(state, end_val-state)+1)):\n",
    "#             wager_val = calc_wager_value(value_fn, state, wager)\n",
    "#             if np.abs(best_val - wager_val) < 1e-6:\n",
    "#                     if wager_val\n",
    "#             if wager_val > best_val:\n",
    "#                 best_val = wager_val\n",
    "#                 best_wager = wager\n",
    "#         policy[state] = best_wager\n",
    "#     return policy"
   ]
  },
  {
   "cell_type": "code",
   "execution_count": 149,
   "id": "1b60d06e",
   "metadata": {
    "scrolled": true
   },
   "outputs": [
    {
     "name": "stdout",
     "output_type": "stream",
     "text": [
      "iter 0: 0.4000\n",
      "iter 1: 0.2400\n",
      "iter 2: 0.1440\n",
      "iter 3: 0.0864\n",
      "iter 4: 0.0518\n",
      "iter 5: 0.0311\n",
      "iter 6: 0.0075\n",
      "iter 7: 0.0025\n",
      "iter 8: 0.0008\n",
      "iter 9: 0.0002\n",
      "iter 10: 0.0000\n",
      "iter 11: 0.0000\n",
      "iter 12: 0.0000\n"
     ]
    }
   ],
   "source": [
    "final_v = value_iterate()"
   ]
  },
  {
   "cell_type": "code",
   "execution_count": 156,
   "id": "586eb8b0",
   "metadata": {},
   "outputs": [
    {
     "data": {
      "text/plain": [
       "0.00516406192632278"
      ]
     },
     "execution_count": 156,
     "metadata": {},
     "output_type": "execute_result"
    }
   ],
   "source": [
    "final_v[2]"
   ]
  },
  {
   "cell_type": "code",
   "execution_count": 151,
   "id": "531e269e",
   "metadata": {},
   "outputs": [
    {
     "data": {
      "text/plain": [
       "0.4030984371557937"
      ]
     },
     "execution_count": 151,
     "metadata": {},
     "output_type": "execute_result"
    }
   ],
   "source": [
    "calc_wager_value(final_v, 51, 49)"
   ]
  },
  {
   "cell_type": "code",
   "execution_count": 153,
   "id": "90346c11",
   "metadata": {},
   "outputs": [
    {
     "data": {
      "text/plain": [
       "0.40309843714587545"
      ]
     },
     "execution_count": 153,
     "metadata": {},
     "output_type": "execute_result"
    }
   ],
   "source": [
    "calc_wager_value(final_v, 51, 1)"
   ]
  },
  {
   "cell_type": "code",
   "execution_count": 132,
   "id": "62aafdfb",
   "metadata": {},
   "outputs": [
    {
     "data": {
      "text/plain": [
       "[<matplotlib.lines.Line2D at 0x169fc2ac0>]"
      ]
     },
     "execution_count": 132,
     "metadata": {},
     "output_type": "execute_result"
    },
    {
     "data": {
      "image/png": "[encoded data removed]",
      "text/plain": [
       "<Figure size 432x288 with 1 Axes>"
      ]
     },
     "metadata": {
      "needs_background": "light"
     },
     "output_type": "display_data"
    }
   ],
   "source": [
    "plt.plot(np.arange(end_val+1), final_v)"
   ]
  },
  {
   "cell_type": "code",
   "execution_count": 133,
   "id": "1fe772ba",
   "metadata": {},
   "outputs": [
    {
     "data": {
      "text/plain": [
       "array([1.00000000e-06, 1.00000000e-06, 1.00000100e-06, 1.00000200e-06,\n",
       "       1.00000399e-06, 1.00099900e-06])"
      ]
     },
     "execution_count": 133,
     "metadata": {},
     "output_type": "execute_result"
    }
   ],
   "source": [
    "final_v[27:33]"
   ]
  },
  {
   "cell_type": "code",
   "execution_count": 134,
   "id": "09791132",
   "metadata": {},
   "outputs": [],
   "source": [
    "policy = policy_from_value(final_v)"
   ]
  },
  {
   "cell_type": "code",
   "execution_count": 135,
   "id": "d7d52d34",
   "metadata": {},
   "outputs": [
    {
     "data": {
      "text/plain": [
       "array([0., 0., 0., 0., 0., 0., 0., 0., 0., 0., 0., 0., 0., 0., 0., 0., 0.,\n",
       "       0., 0., 0., 0., 0., 0., 0., 0., 0., 0., 0., 0., 0., 0., 0., 0., 0.,\n",
       "       0., 0., 0., 0., 0., 0., 0., 0., 0., 0., 0., 0., 0., 0., 0., 0., 0.,\n",
       "       0., 0., 0., 0., 0., 0., 0., 0., 0., 0., 0., 0., 0., 0., 0., 0., 0.,\n",
       "       0., 0., 0., 0., 0., 0., 0., 0., 0., 0., 0., 0., 0., 0., 0., 0., 0.,\n",
       "       0., 0., 0., 0., 0., 0., 0., 0., 0., 0., 0., 0., 0., 0., 0.])"
      ]
     },
     "execution_count": 135,
     "metadata": {},
     "output_type": "execute_result"
    }
   ],
   "source": [
    "policy"
   ]
  },
  {
   "cell_type": "code",
   "execution_count": 136,
   "id": "95c6604f",
   "metadata": {},
   "outputs": [
    {
     "data": {
      "text/plain": [
       "<matplotlib.collections.PathCollection at 0x1696efd00>"
      ]
     },
     "execution_count": 136,
     "metadata": {},
     "output_type": "execute_result"
    },
    {
     "data": {
      "image/png": "[encoded data removed]",
      "text/plain": [
       "<Figure size 432x288 with 1 Axes>"
      ]
     },
     "metadata": {
      "needs_background": "light"
     },
     "output_type": "display_data"
    }
   ],
   "source": [
    "plt.scatter(np.arange(end_val), policy)"
   ]
  },
  {
   "cell_type": "code",
   "execution_count": 181,
   "id": "b5efa425",
   "metadata": {},
   "outputs": [
    {
     "data": {
      "text/plain": [
       "0.4"
      ]
     },
     "execution_count": 181,
     "metadata": {},
     "output_type": "execute_result"
    }
   ],
   "source": [
    "0.6*final_v[0] + 0.4*final_v[100]"
   ]
  },
  {
   "cell_type": "code",
   "execution_count": 182,
   "id": "1f44f75a",
   "metadata": {},
   "outputs": [
    {
     "data": {
      "text/plain": [
       "0.4"
      ]
     },
     "execution_count": 182,
     "metadata": {},
     "output_type": "execute_result"
    }
   ],
   "source": [
    "final_v[50]"
   ]
  },
  {
   "cell_type": "code",
   "execution_count": 284,
   "id": "3f2caeab",
   "metadata": {},
   "outputs": [
    {
     "data": {
      "text/plain": [
       "0.4030984371557937"
      ]
     },
     "execution_count": 284,
     "metadata": {},
     "output_type": "execute_result"
    }
   ],
   "source": [
    "calc_wager_value(final_v, 51, 49)"
   ]
  },
  {
   "cell_type": "code",
   "execution_count": 285,
   "id": "8492ebb5",
   "metadata": {},
   "outputs": [
    {
     "data": {
      "text/plain": [
       "0.40309843714587545"
      ]
     },
     "execution_count": 285,
     "metadata": {},
     "output_type": "execute_result"
    }
   ],
   "source": [
    "calc_wager_value(final_v, 51, 1)"
   ]
  },
  {
   "cell_type": "code",
   "execution_count": 286,
   "id": "9577d2f3",
   "metadata": {},
   "outputs": [
    {
     "data": {
      "text/plain": [
       "0.40309843714587545"
      ]
     },
     "execution_count": 286,
     "metadata": {},
     "output_type": "execute_result"
    }
   ],
   "source": [
    "calc_wager_value(final_v, 51, 0)"
   ]
  },
  {
   "cell_type": "code",
   "execution_count": null,
   "id": "e4a7ba76",
   "metadata": {},
   "outputs": [],
   "source": [
    "    for state in np.arange(end_val):\n",
    "        best_val = 0\n",
    "        best_wager = 0\n",
    "        for wager in  np.arange(0, min(state, end_val-state)+1):\n",
    "            wager_val = calc_wager_value(value_fn, state, wager)\n",
    "            if wager_val > best_val:\n",
    "                best_val = wager_val\n",
    "                best_wager = wager\n",
    "        policy[state] = best_wager\n",
    "    return policy"
   ]
  },
  {
   "cell_type": "code",
   "execution_count": null,
   "id": "0a4da8fa",
   "metadata": {},
   "outputs": [],
   "source": []
  },
  {
   "cell_type": "code",
   "execution_count": 84,
   "id": "0ac43e67",
   "metadata": {},
   "outputs": [
    {
     "data": {
      "text/plain": [
       "[<matplotlib.lines.Line2D at 0x152ac1c70>]"
      ]
     },
     "execution_count": 84,
     "metadata": {},
     "output_type": "execute_result"
    },
    {
     "data": {
      "image/png": "[encoded data removed]",
      "text/plain": [
       "<Figure size 432x288 with 1 Axes>"
      ]
     },
     "metadata": {
      "needs_background": "light"
     },
     "output_type": "display_data"
    }
   ],
   "source": [
    "plt.plot(np.arange(end_val+1), value_fn)"
   ]
  },
  {
   "cell_type": "code",
   "execution_count": null,
   "id": "dab5f34f",
   "metadata": {},
   "outputs": [],
   "source": []
  },
  {
   "cell_type": "code",
   "execution_count": 777,
   "id": "dedf16c1",
   "metadata": {},
   "outputs": [],
   "source": [
    "def expected_return_debug(state, action, state_value, constant_returned_cars, check1, check2):\n",
    "    \"\"\"\n",
    "    @state: [# of cars in first location, # of cars in second location]\n",
    "    @action: positive if moving cars from first location to second location,\n",
    "            negative if moving cars from second location to first location\n",
    "    @stateValue: state value matrix\n",
    "    @constant_returned_cars:  if set True, model is simplified such that\n",
    "    the # of cars returned in daytime becomes constant\n",
    "    rather than a random value from poisson distribution, which will reduce calculation time\n",
    "    and leave the optimal policy/value state matrix almost the same\n",
    "    \"\"\"\n",
    "    # initailize total return\n",
    "    returns = 0.0\n",
    "\n",
    "    # cost for moving cars\n",
    "    returns -= MOVE_CAR_COST * abs(action)\n",
    "\n",
    "    # moving cars\n",
    "    NUM_OF_CARS_FIRST_LOC = min(state[0] - action, MAX_CARS)\n",
    "    NUM_OF_CARS_SECOND_LOC = min(state[1] + action, MAX_CARS)\n",
    "    \n",
    "    check_p = 0\n",
    "    check_r = 0\n",
    "    n_checked = 0\n",
    "\n",
    "    # go through all possible rental requests\n",
    "    for rental_request_first_loc in range(POISSON_UPPER_BOUND):\n",
    "        for rental_request_second_loc in range(POISSON_UPPER_BOUND):\n",
    "            # probability for current combination of rental requests\n",
    "            prob = poisson_probability(rental_request_first_loc, RENTAL_REQUEST_FIRST_LOC) * \\\n",
    "                poisson_probability(rental_request_second_loc, RENTAL_REQUEST_SECOND_LOC)\n",
    "\n",
    "            num_of_cars_first_loc = NUM_OF_CARS_FIRST_LOC\n",
    "            num_of_cars_second_loc = NUM_OF_CARS_SECOND_LOC\n",
    "\n",
    "            # valid rental requests should be less than actual # of cars\n",
    "            valid_rental_first_loc = min(num_of_cars_first_loc, rental_request_first_loc)\n",
    "            valid_rental_second_loc = min(num_of_cars_second_loc, rental_request_second_loc)\n",
    "\n",
    "            # get credits for renting\n",
    "            reward = (valid_rental_first_loc + valid_rental_second_loc) * RENTAL_CREDIT\n",
    "            num_of_cars_first_loc -= valid_rental_first_loc\n",
    "            num_of_cars_second_loc -= valid_rental_second_loc\n",
    "\n",
    "            if constant_returned_cars:\n",
    "                # get returned cars, those cars can be used for renting tomorrow\n",
    "                returned_cars_first_loc = RETURNS_FIRST_LOC\n",
    "                returned_cars_second_loc = RETURNS_SECOND_LOC\n",
    "                num_of_cars_first_loc = min(num_of_cars_first_loc + returned_cars_first_loc, MAX_CARS)\n",
    "                num_of_cars_second_loc = min(num_of_cars_second_loc + returned_cars_second_loc, MAX_CARS)\n",
    "                returns += prob * (reward + DISCOUNT * state_value[num_of_cars_first_loc, num_of_cars_second_loc])\n",
    "            else:\n",
    "                for returned_cars_first_loc in range(POISSON_UPPER_BOUND):\n",
    "                    for returned_cars_second_loc in range(POISSON_UPPER_BOUND):\n",
    "                        prob_return = poisson_probability(\n",
    "                            returned_cars_first_loc, RETURNS_FIRST_LOC) * poisson_probability(returned_cars_second_loc, RETURNS_SECOND_LOC)\n",
    "                        num_of_cars_first_loc_ = min(num_of_cars_first_loc + returned_cars_first_loc, MAX_CARS)\n",
    "                        num_of_cars_second_loc_ = min(num_of_cars_second_loc + returned_cars_second_loc, MAX_CARS)\n",
    "                        prob_ = prob_return * prob\n",
    "                        returns += prob_ * (reward + DISCOUNT *\n",
    "                                            state_value[num_of_cars_first_loc_, num_of_cars_second_loc_])\n",
    "                        \n",
    "                        if num_of_cars_first_loc_ == check1 and num_of_cars_second_loc_ == check2:\n",
    "                            check_p += prob_\n",
    "                            check_r += prob_ * (reward + DISCOUNT *\n",
    "                                            state_value[num_of_cars_first_loc_, num_of_cars_second_loc_])\n",
    "                            n_checked += 1\n",
    "                            print(rental_request_first_loc, rental_request_second_loc,\n",
    "                                  returned_cars_first_loc, returned_cars_second_loc,\n",
    "                                  prob_, reward,  state_value[num_of_cars_first_loc_, num_of_cars_second_loc_])\n",
    "    print(check_p, check_r, n_checked)\n",
    "    return returns"
   ]
  },
  {
   "cell_type": "code",
   "execution_count": 780,
   "id": "d8de674f",
   "metadata": {},
   "outputs": [],
   "source": []
  },
  {
   "cell_type": "code",
   "execution_count": 781,
   "id": "69a2adff",
   "metadata": {
    "scrolled": false
   },
   "outputs": [
    {
     "name": "stderr",
     "output_type": "stream",
     "text": [
      "/var/folders/rw/wj50zblj7kjcn35zy9wm2lpr0000gp/T/ipykernel_1580/3486407517.py:110: DeprecationWarning: `np.int` is a deprecated alias for the builtin `int`. To silence this warning, use `int` by itself. Doing this will not modify any behavior and is safe. When replacing `np.int`, you may wish to use e.g. `np.int64` or `np.int32` to specify the precision. If you wish to review your current use, check the release note link for additional information.\n",
      "Deprecated in NumPy 1.20; for more details and guidance: https://numpy.org/devdocs/release/1.20.0-notes.html#deprecations\n",
      "  policy = np.zeros(value.shape, dtype=np.int)\n"
     ]
    },
    {
     "name": "stdout",
     "output_type": "stream",
     "text": [
      "max value change 191.14044425450055\n",
      "max value change 131.91909180411542\n",
      "max value change 88.61937127296514\n",
      "max value change 66.27613430095826\n",
      "max value change 52.30404034617686\n",
      "max value change 40.50431282688453\n",
      "max value change 31.571819689709855\n",
      "max value change 25.009002907688057\n",
      "max value change 20.776212359973954\n",
      "max value change 17.373214856382333\n",
      "max value change 14.489145965680734\n",
      "max value change 12.054381189472622\n",
      "max value change 10.005913044444071\n",
      "max value change 8.288060588890005\n",
      "max value change 6.851978596679828\n",
      "max value change 5.654991085770007\n",
      "max value change 4.659991030583512\n",
      "max value change 3.8349060091838396\n",
      "max value change 3.1521952447087074\n",
      "max value change 2.588360954112318\n",
      "max value change 2.1234741080097024\n",
      "max value change 1.7407223622981292\n",
      "max value change 1.4259887280390444\n",
      "max value change 1.1674672474201202\n",
      "max value change 0.9553189041116639\n",
      "max value change 0.7813683111010619\n",
      "max value change 0.638839739487878\n",
      "max value change 0.5221297762513473\n",
      "max value change 0.4266132009908574\n",
      "max value change 0.34847839389908586\n",
      "max value change 0.2845885957520977\n",
      "max value change 0.23236552706566727\n",
      "max value change 0.18969215947532803\n",
      "max value change 0.1548317653802087\n",
      "max value change 0.12636071527731474\n",
      "max value change 0.1031128251400446\n",
      "max value change 0.08413336513086733\n",
      "max value change 0.0686411205555828\n",
      "max value change 0.055997143450042586\n",
      "max value change 0.04567904880804008\n",
      "max value change 0.037259895933971166\n",
      "max value change 0.03039085397136887\n",
      "max value change 0.0247869858455374\n",
      "max value change 0.020215598174445404\n",
      "max value change 0.016486700194150217\n",
      "max value change 0.01344519429187585\n",
      "max value change 0.010964486989678335\n",
      "max value change 0.008941264207123822\n",
      "max value change 0.0072912202863903985\n",
      "max value change 0.005945567765877513\n",
      "max value change 0.0048481859981848174\n",
      "max value change 0.003953292204812442\n",
      "max value change 0.0032235397867452775\n",
      "max value change 0.00262846565306063\n",
      "max value change 0.0021432228109006246\n",
      "max value change 0.0017475459548563776\n",
      "max value change 0.0014249073130940815\n",
      "max value change 0.001161827753264788\n",
      "max value change 0.0009473148681422572\n",
      "max value change 0.0007724044183987644\n",
      "max value change 0.0006297862934161458\n",
      "max value change 0.0005134994066793297\n",
      "max value change 0.0004186828787169361\n",
      "max value change 0.0003413729722296921\n",
      "max value change 0.00027833762538875817\n",
      "max value change 0.00022694137976486672\n",
      "max value change 0.00018503528860946972\n",
      "max value change 0.00015086714944345658\n",
      "max value change 0.00012300820822019887\n",
      "max value change 0.0001002935280780548\n",
      "max value change 8.177324247071738e-05\n",
      "policy stable False\n",
      "max value change 64.01342796978003\n",
      "max value change 4.445470575940476\n",
      "max value change 2.0033734680462203\n",
      "max value change 1.5195970840286463\n",
      "max value change 1.31219031575921\n",
      "max value change 1.0846250849419903\n",
      "max value change 0.8857918623356795\n",
      "max value change 0.7214163111005973\n",
      "max value change 0.5870734482062403\n",
      "max value change 0.4775904073965762\n",
      "max value change 0.38846115802499526\n",
      "max value change 0.3159378005021267\n",
      "max value change 0.25694147606355955\n",
      "max value change 0.20895572271666651\n",
      "max value change 0.16992866502152992\n",
      "max value change 0.13818922909604225\n",
      "max value change 0.11237731342316692\n",
      "max value change 0.09138629708712642\n",
      "max value change 0.07431597662633749\n",
      "max value change 0.06043415029711241\n",
      "max value change 0.04914530861850608\n",
      "max value change 0.03996513848505856\n",
      "max value change 0.03249977214005639\n",
      "max value change 0.0264289028328335\n",
      "max value change 0.021492049608468733\n",
      "max value change 0.01747738506753649\n",
      "max value change 0.014212648709076348\n",
      "max value change 0.01155775682411786\n",
      "max value change 0.009398792451804638\n",
      "max value change 0.007643117730140148\n",
      "max value change 0.006215399209452244\n",
      "max value change 0.005054375456154503\n",
      "max value change 0.004110228498461765\n",
      "max value change 0.003342446228373319\n",
      "max value change 0.002718084097807605\n",
      "max value change 0.0022103515325397893\n",
      "max value change 0.0017974623727923245\n",
      "max value change 0.0014617000587122675\n",
      "max value change 0.001188657462705578\n",
      "max value change 0.0009666186684853528\n",
      "max value change 0.0007860562612904687\n",
      "max value change 0.0006392225599256562\n",
      "max value change 0.000519817081567453\n",
      "max value change 0.00042271630815093886\n",
      "max value change 0.00034375375764739147\n",
      "max value change 0.00027954125999940516\n",
      "max value change 0.00022732351675358586\n",
      "max value change 0.00018485994780803594\n",
      "max value change 0.00015032848796181497\n",
      "max value change 0.00012224742818034429\n",
      "max value change 9.941186073092467e-05\n",
      "policy stable False\n",
      "max value change 4.2016869066105755\n",
      "max value change 2.7978219314622947\n",
      "max value change 1.8926119006961244\n",
      "max value change 1.3512120780678742\n",
      "max value change 0.9217592499267084\n",
      "max value change 0.6107708868344162\n",
      "max value change 0.4029272593593305\n",
      "max value change 0.26986569222970047\n",
      "max value change 0.1940397882791558\n",
      "max value change 0.14681793653971908\n",
      "max value change 0.114171153958182\n",
      "max value change 0.09325062132057838\n",
      "max value change 0.07606547014052012\n",
      "max value change 0.06199652189553717\n",
      "max value change 0.05050319601349429\n",
      "max value change 0.041126650960450206\n",
      "max value change 0.033483644926718625\n",
      "max value change 0.027257149692900384\n",
      "max value change 0.02218646313571071\n",
      "max value change 0.018057999031327654\n",
      "max value change 0.014697185557793091\n",
      "max value change 0.01196155499684437\n",
      "max value change 0.009734953181975925\n",
      "max value change 0.007922739289654146\n",
      "max value change 0.006447832899027617\n",
      "max value change 0.00524747239626322\n",
      "max value change 0.004270563968646002\n",
      "max value change 0.0034755171569145205\n",
      "max value change 0.0028284797711535248\n",
      "max value change 0.0023018994403969373\n",
      "max value change 0.001873351949257085\n",
      "max value change 0.0015245871207412165\n",
      "max value change 0.0012407520871988709\n",
      "max value change 0.001009758951454387\n",
      "max value change 0.000821770165828184\n",
      "max value change 0.0006687795628863569\n",
      "max value change 0.0005442715095114181\n",
      "max value change 0.00044294335924632833\n",
      "max value change 0.0003604796797276322\n",
      "max value change 0.00029336841993199414\n",
      "max value change 0.0002387514050496975\n",
      "max value change 0.00019430255588304135\n",
      "max value change 0.00015812884112165193\n",
      "max value change 0.0001286896659848935\n",
      "max value change 0.00010473123825249786\n",
      "max value change 8.523320133235757e-05\n",
      "policy stable False\n",
      "max value change 0.5302584806881896\n",
      "max value change 0.16097129501997642\n",
      "max value change 0.07528664213521097\n",
      "max value change 0.0453555408827242\n",
      "max value change 0.03085859125690149\n",
      "max value change 0.02054917785278576\n",
      "max value change 0.013225284230202305\n",
      "max value change 0.008457308102720162\n",
      "max value change 0.005498138007851594\n",
      "max value change 0.003678738740973131\n",
      "max value change 0.0026960174225223454\n",
      "max value change 0.002107779438460966\n",
      "max value change 0.001721206647857798\n",
      "max value change 0.0014039052766747773\n",
      "max value change 0.001144208321932183\n",
      "max value change 0.0009320675953290447\n",
      "max value change 0.0007589972707364723\n",
      "max value change 0.0006179222144169216\n",
      "max value change 0.0005029925956705483\n",
      "max value change 0.0004093980017501053\n",
      "max value change 0.00033319683063837147\n",
      "max value change 0.0002711669449695364\n",
      "max value change 0.00022067841479156414\n",
      "max value change 0.0001795868220142438\n",
      "max value change 0.0001461448129020937\n",
      "max value change 0.00011892922600509337\n",
      "max value change 9.678126195922232e-05\n",
      "policy stable False\n",
      "max value change 0.051883746367025196\n",
      "max value change 0.007404283463074535\n",
      "max value change 0.003256688300893984\n",
      "max value change 0.0019397641362957074\n",
      "max value change 0.0011366017083673796\n",
      "max value change 0.0006468752194450644\n",
      "max value change 0.00036362402670420124\n",
      "max value change 0.00020359034670036635\n",
      "max value change 0.00011497554669404053\n",
      "max value change 6.578202919627074e-05\n",
      "policy stable True\n"
     ]
    },
    {
     "data": {
      "image/png": "[encoded data removed]",
      "text/plain": [
       "<Figure size 2880x1440 with 12 Axes>"
      ]
     },
     "metadata": {
      "needs_background": "light"
     },
     "output_type": "display_data"
    }
   ],
   "source": [
    "ref_v, ref_p = figure_4_2(constant_returned_cars=False)"
   ]
  },
  {
   "cell_type": "code",
   "execution_count": 795,
   "id": "af302945",
   "metadata": {
    "scrolled": false
   },
   "outputs": [
    {
     "data": {
      "image/png": "[encoded data removed]",
      "text/plain": [
       "<Figure size 432x288 with 2 Axes>"
      ]
     },
     "metadata": {
      "needs_background": "light"
     },
     "output_type": "display_data"
    }
   ],
   "source": [
    "ax = sns.heatmap(p, annot=True)\n",
    "ax.invert_yaxis()"
   ]
  },
  {
   "cell_type": "code",
   "execution_count": 797,
   "id": "19c5fd16",
   "metadata": {
    "scrolled": false
   },
   "outputs": [
    {
     "data": {
      "image/png": "[encoded data removed]",
      "text/plain": [
       "<Figure size 432x288 with 2 Axes>"
      ]
     },
     "metadata": {
      "needs_background": "light"
     },
     "output_type": "display_data"
    }
   ],
   "source": [
    "ax = sns.heatmap(v)\n",
    "ax.invert_yaxis()"
   ]
  },
  {
   "cell_type": "code",
   "execution_count": null,
   "id": "5367a6e7",
   "metadata": {},
   "outputs": [],
   "source": []
  }
 ],
 "metadata": {
  "kernelspec": {
   "display_name": "Python 3 (ipykernel)",
   "language": "python",
   "name": "python3"
  },
  "language_info": {
   "codemirror_mode": {
    "name": "ipython",
    "version": 3
   },
   "file_extension": ".py",
   "mimetype": "text/x-python",
   "name": "python",
   "nbconvert_exporter": "python",
   "pygments_lexer": "ipython3",
   "version": "3.9.10"
  },
  "toc": {
   "base_numbering": 1,
   "nav_menu": {},
   "number_sections": true,
   "sideBar": true,
   "skip_h1_title": false,
   "title_cell": "Table of Contents",
   "title_sidebar": "Contents",
   "toc_cell": false,
   "toc_position": {},
   "toc_section_display": true,
   "toc_window_display": true
  }
 },
 "nbformat": 4,
 "nbformat_minor": 5
}
