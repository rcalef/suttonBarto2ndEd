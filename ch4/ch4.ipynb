{
 "cells": [
  {
   "cell_type": "code",
   "execution_count": 1,
   "id": "6666c8bf",
   "metadata": {},
   "outputs": [],
   "source": [
    "import numpy as np\n",
    "import pandas as pd\n",
    "import matplotlib.pyplot as plt\n",
    "import seaborn as sns\n",
    "\n",
    "from scipy.stats import poisson"
   ]
  },
  {
   "cell_type": "markdown",
   "id": "0f37eeb6",
   "metadata": {},
   "source": [
    "Note that I've skipped the grid world questions in chapter 4 as I found that my interests really got piqued once there were algorithms for me to implement and explore."
   ]
  },
  {
   "cell_type": "markdown",
   "id": "cc937bf0",
   "metadata": {},
   "source": [
    "# Jack's Car Rental"
   ]
  },
  {
   "cell_type": "markdown",
   "id": "f83fe649",
   "metadata": {},
   "source": [
    "## Intro"
   ]
  },
  {
   "cell_type": "markdown",
   "id": "41aa6ec0",
   "metadata": {},
   "source": [
    "In this section, we'll be reimplementing a solution to the Jack's Car Rental problem given in Example 4.2 of Chapter 4 of [Reinforcement Learning: An Introduction](http://incompleteideas.net/book/the-book-2nd.html) by Richard Sutton and Andrew Barto. In addition to implementing a solution to the original problem, we will also answer the associated exercise questions."
   ]
  },
  {
   "cell_type": "markdown",
   "id": "a95dfe1f",
   "metadata": {},
   "source": [
    "The initial problem setup is that Jack's Car Rental has two locations, each of which has a different demand for rentals and rate of rentals being returned to that location. After the businesses close each night, Jack can pay to shuttle cars from one location to another. The goal here is to find the optimal number of cars to shuttle between the two locations given the number of cars at each location at the end of the business day.\n",
    "\n",
    "In particular, the number of rentals and returns per day at each location are Poisson distributed with a mean of 3 rentals and 3 returns at the first location, and 4 rentals and 2 returns at the second location. Jack makes \\\\$10 for each car he can rent on a given day (rental requests in excess of the number of cars available are unfulfilled and are missed sales), and pays \\\\$2 per car to shuttle overnight. Jack can also only move a maximum of 5 cars per night, and each location can hold at most 20 cars, any excess cars are imagined to be shuttled off to some other locations for the national chain.\n",
    "\n",
    "To map this problem statement to the reinforcement learning terminology, the number of cars at each location the end of the day is the state, the actions are the number of cars to shuttle overnight, the reward is the net profit for the day, and the policy is then how many cars to shuttle given a particular number of cars at each location to maximize the profit."
   ]
  },
  {
   "cell_type": "markdown",
   "id": "994a3355",
   "metadata": {},
   "source": [
    "Short tangent on why I found this exercise particularly enlightening:\n",
    "\n",
    "I've mainly been watching [David Silver's lectures on reinforcement learning](https://www.davidsilver.uk/teaching/), and if you look through the [slides](https://www.davidsilver.uk/wp-content/uploads/2020/03/DP.pdf) for David Silver's lecture on dynamic programming, you'll see that he expresses the iterative step of policy evaluation as follows:\n",
    "\n",
    "$v_{k+1}(s) = \\sum_{a\\in A} \\pi(a|s) (R^{a}_{s} + \\gamma\\sum_{s' \\in S} P^{a}_{ss'}v_{k}(s'))$\n",
    "\n",
    "whereas this is the presentation in Sutton and Barto:\n",
    "\n",
    "$V(s) = \\sum_{s', r} p(s', r | s, \\pi(s))[r + \\gamma V(s')]$\n",
    "\n",
    "I think it's worth comparing the two presentations since they both make different things clear:\n",
    " - Silver's presentation shows that policy can be stochastic, as shown by the $\\pi(a|s)$ term in the expected reward calculation\n",
    " - Silver's presentation shows the reward as a constant given the action and state, whereas the Sutton presentation shows that the reward's value can be stochastic as well, and that the probability of a given reward needs to be folded into the expected reward calculation\n",
    " \n",
    "Since I was primarily working off of David Silver's lecture, this second point was made more concrete for me by working through this exercise, as the rewards are stochastic since the number of rental requests are stochastic, and the same state transition can be made multiple ways but with different rewards (e.g. 1 rental request, 2 returns; 2 rental requests, 3 returns; etc.). I felt that working through this problem helped unify the nuances between the two presentations and give a more complete picture of the policy iteration approach."
   ]
  },
  {
   "cell_type": "markdown",
   "id": "800406a2",
   "metadata": {},
   "source": [
    "## Math behind approach"
   ]
  },
  {
   "cell_type": "markdown",
   "id": "227bba51",
   "metadata": {},
   "source": [
    "In order to use policy iteration to solve this problem, we need to be able to write down the probability of transitioning from one state to another. Since the number of rentals and returns are a random variable, there are multiple numbers of rentals and returns that can result in the same state transition. For example, we could go from 15 cars to 12 cars as a result of 3 rentals and 0 returns, 4 rentals and 1 return, etc. Since each of these numbers of rentals/returns have a different probability (coming from their Poisson distributions), we want to sum the probability of all the combinations to get the total probabilty of a given state transition. Since these probabilities aren't changing over time, we can precompute them to speed up our policy iteration process.\n",
    "\n",
    "In addition to precomputing the state transition probabilities over some grid of reasonable rental/return values, we can also precompute the expected reward coming from rentals alone, since this is only a function of the number of cars (i.e. the state) and the distribution of the number of rentals/returns (which we know). We can then add in the cost associated with our action when we actually perform the policy iteration process. \n",
    "\n",
    "To see this in actual math notation, we can look at the policy iteration update step:\n",
    "\n",
    "$V(s) = \\sum_{s', r} p(s', r | s, \\pi(s))[r + \\gamma V(s')]$\n",
    "\n",
    "what we're doing here is explicitly splitting out the sum over states and reward values:\n",
    "\n",
    "**(1)** $V(s) = \\sum_{s'} \\sum_{r} p(s', r | s, \\pi(s))[r + \\gamma V(s')]$\n",
    "\n",
    "for convenience, we can next rewrite the probability of a given state transition and reward (i.e. a given number of rentals and returns from our current state):\n",
    "\n",
    "**(2)** $ p(s', r | s, \\pi(s)) = p_{ss'}^{r}$\n",
    "\n",
    "and substitute **(2)** back into **(1)** and distribute:\n",
    "\n",
    "**(3)** $V(s) = \\sum_{s'} [\\sum_{r} (p_{ss'}^{r}r) + \\sum_{r} (p_{ss'}^{r} \\gamma V(s'))]$\n",
    "\n",
    "we can now look more closely at the two terms that are sums over the reward value.\n",
    "\n",
    "First we see that the term $\\gamma V(s')$ doesn't depend on the reward value at all, just the next state, and rewrite:\n",
    "\n",
    "**(4)** $\\sum_{r} (p_{ss'}^{r} \\gamma V(s')) = \\gamma V(s') \\sum_{r} p_{ss'}^{r} = \\gamma V(s') p_{ss'}$\n",
    "\n",
    "where $p_{ss'}$ is the total probability of transitioning from state $s$ to state $s'$ summed over all (probable) numbers of rentals and returns that could give that transition.\n",
    "\n",
    "Next we can note that the second term is just the expected reward given that we're transitioning from $s$ to $s'$:\n",
    "\n",
    "**(5)** $\\sum_{r} p_{ss'}^{r}r = \\mathbb{E}_{ss'}[r]$\n",
    "\n",
    "Substituting **(4)** and **(5)** back into **(3)**:\n",
    "\n",
    "\n",
    "**(6)** $V(s) = \\sum_{s'} \\mathbb{E}_{ss'}[r] + p_{ss'}^{r} \\gamma V(s')$\n",
    "\n",
    "where we can now see that the only term here that changes across iterations is the value function itself, hence we can precompute $\\mathbb{E}_{ss'}[r]$ and $p_{ss'}^{r}$ and save ourselves a ton of computation during the actual policy evaluation portion of the algorithm.\n",
    "\n",
    "Note that this approach is possible here because:\n",
    " - transition probabilities and rewards are constant over time\n",
    " - transition probabilities are unaffected by our action (given that we call state $s$ as the state we end up in after taking the action of moving cars)\n",
    "\n",
    "\n",
    "These transition probabilities and expected rewards will be stored in a 4D array, where the first and second dimensions are the current state and the third and fourth dimensions are the future state: [curr_cars_loc1, curr_cars_loc2, next_cars_loc1, next_cars_loc2]\n",
    "\n",
    "By making this optimization, we can get a huge speed-up. On my 2021 MacBook Pro, this implementation runs in under a minute, as compared to the semi-official Python implementation [linked](https://github.com/ShangtongZhang/reinforcement-learning-an-introduction/tree/master/chapter04) on textbook website which still hadn't finished after 10 minutes."
   ]
  },
  {
   "cell_type": "markdown",
   "id": "76b0e2ee",
   "metadata": {},
   "source": [
    "## Initial solution"
   ]
  },
  {
   "cell_type": "code",
   "execution_count": 2,
   "id": "7f3d84ea",
   "metadata": {},
   "outputs": [
    {
     "data": {
      "text/plain": [
       "<matplotlib.collections.PathCollection at 0x13ef0ffd0>"
      ]
     },
     "execution_count": 2,
     "metadata": {},
     "output_type": "execute_result"
    },
    {
     "data": {
      "image/png": "[encoded data removed]",
      "text/plain": [
       "<Figure size 432x288 with 1 Axes>"
      ]
     },
     "metadata": {
      "needs_background": "light"
     },
     "output_type": "display_data"
    }
   ],
   "source": [
    "# Since we have Poisson random variables here, which theoretically could\n",
    "# lead to an infinite number of cars being rented or returned, we want to\n",
    "# understand what's a reasonable number of rentals or returns with\n",
    "# non-trivial probability to use as a maximum for our calculations.\n",
    "# Based on the plot below, 14 seems reasonable.\n",
    "x = np.arange(0, 20)\n",
    "y = poisson.pmf(x, 4)\n",
    "plt.scatter(x, y)"
   ]
  },
  {
   "cell_type": "code",
   "execution_count": 3,
   "id": "2493851d",
   "metadata": {},
   "outputs": [],
   "source": [
    "# Maximum number of cars per location.\n",
    "max_cars = 20\n",
    "# Actual dimension of state matrix (since we can also have 0 cars).\n",
    "d = max_cars+1\n",
    "# Maximum number of cars we can move per night.\n",
    "max_move = 5\n",
    "# Maximum value of number of rentals and returns to consider.\n",
    "max_poisson = 14\n",
    "\n",
    "# Mean number of rentals and returns per location.\n",
    "loc1_rent_mean = 3\n",
    "loc1_return_mean = 3\n",
    "loc2_rent_mean = 4\n",
    "loc2_return_mean = 2\n",
    "\n",
    "# Reward for rentals.\n",
    "rent_reward = 10\n",
    "# Cost for moving a car overnight.\n",
    "move_cost = -2\n",
    "# Discount factor.\n",
    "gamma = 0.9"
   ]
  },
  {
   "cell_type": "code",
   "execution_count": 4,
   "id": "1f54c78c",
   "metadata": {},
   "outputs": [],
   "source": [
    "# Precompute Poisson PMF out to the maximum amount.\n",
    "def populatePoisLookup(mean, max_val=max_poisson):\n",
    "    return poisson(mean).pmf(np.arange(max_val+1))\n",
    "\n",
    "loc1_rent_dist = populatePoisLookup(loc1_rent_mean)\n",
    "loc1_return_dist = populatePoisLookup(loc1_return_mean)\n",
    "loc2_rent_dist = populatePoisLookup(loc2_rent_mean)\n",
    "loc2_return_dist = populatePoisLookup(loc2_return_mean)"
   ]
  },
  {
   "cell_type": "code",
   "execution_count": 5,
   "id": "a250e696",
   "metadata": {},
   "outputs": [],
   "source": [
    "# Calculate transition probabilities and expected rewards for each\n",
    "# possible state given a current state.\n",
    "def calculate_one_state(curr_loc1, curr_loc2):\n",
    "    expected_reward = np.zeros((d, d))\n",
    "    transition_prob = np.zeros((d, d))\n",
    "    \n",
    "    # Iterate over number of rentals and returns at each location,\n",
    "    # capping the number of rentals to be at most the number of cars\n",
    "    # at the location, and capping the final number of cars after returns\n",
    "    # to be at most `max_cars`.\n",
    "    for rent1 in range(max_poisson):\n",
    "        for rent2 in range(max_poisson):\n",
    "            # Probabilities of number of rental requests at each location.\n",
    "            p_rent1 = loc1_rent_dist[rent1]\n",
    "            p_rent2 = loc2_rent_dist[rent2]\n",
    "\n",
    "            # Number of cars actually rented (i.e. at most the number\n",
    "            # of available cars). Note that cars become available for\n",
    "            # rent the next day, so we don't include the number of returns\n",
    "            # in the number of cars available for rent.\n",
    "            actual_rent1 = min(rent1, curr_loc1)\n",
    "            actual_rent2 = min(rent2, curr_loc2)\n",
    "            \n",
    "            for return1 in range(max_poisson):\n",
    "                for return2 in range(max_poisson):\n",
    "                    # Probabilities of number of returns.\n",
    "                    p_return1 = loc1_return_dist[return1]\n",
    "                    p_return2 = loc2_return_dist[return2]\n",
    "                    \n",
    "                    # What's the state we end up in after this number of \n",
    "                    # rentals and returns, capped at being at most the\n",
    "                    # maximum number of cars per location.\n",
    "                    future_loc1 = min(curr_loc1 + return1 - actual_rent1, max_cars)\n",
    "                    future_loc2 = min(curr_loc2 + return2 - actual_rent2, max_cars)\n",
    "\n",
    "                    # Total probability of this number of rental requests\n",
    "                    # and returns at both locations.\n",
    "                    total_p = p_rent1*p_rent2*p_return1*p_return2\n",
    "                    # Actual reward from rentals.\n",
    "                    reward = (actual_rent1 + actual_rent2)*rent_reward\n",
    "\n",
    "                    # Add the transition probability and probability-weighted\n",
    "                    # reward for the future state for this specific combination\n",
    "                    # of rentals and returns.\n",
    "                    transition_prob[future_loc1, future_loc2] += total_p\n",
    "                    expected_reward[future_loc1, future_loc2] += total_p*reward\n",
    "            \n",
    "    return transition_prob, expected_reward\n",
    "\n",
    "# Calculate transition probabilities and expected rewards for every combination \n",
    "# of current state and future state.\n",
    "def calculate_probs_and_rewards():\n",
    "    transition_prob = np.zeros((d, d, d, d))\n",
    "    expected_reward = np.zeros((d, d, d, d))\n",
    "    \n",
    "    for curr_loc1, curr_loc2 in np.ndindex((d, d)):\n",
    "        p, r = calculate_one_state(curr_loc1, curr_loc2)\n",
    "        \n",
    "        # Since `p` represents the probability of transitioning to any other\n",
    "        # possible state from (curr1, curr2), good to sanity check that total\n",
    "        # probability is close to 1 despite our simplification of only considering\n",
    "        # at most 14 rentals/returns.\n",
    "        assert(1 - p.sum() < 1e-4)\n",
    "        \n",
    "        transition_prob[curr_loc1, curr_loc2] = p       \n",
    "        expected_reward[curr_loc1, curr_loc2] = r\n",
    "        \n",
    "    return transition_prob, expected_reward"
   ]
  },
  {
   "cell_type": "code",
   "execution_count": 6,
   "id": "8d1b1b59",
   "metadata": {},
   "outputs": [],
   "source": [
    "# Actual policy iteration code. As in Sutton, we implement the policy\n",
    "# as a matrix of values where the value indicates the number of cars\n",
    "# to move from location 1 to location 2 and a negative value indicates\n",
    "# instead moving cars from location 2 to location 1.\n",
    "\n",
    "# Calculate the state value function for a single state given\n",
    "# our current action at this state.\n",
    "def backup_one(value_fn,\n",
    "               num_move,\n",
    "               curr_loc1,\n",
    "               curr_loc2,\n",
    "               transition_probs,\n",
    "               expected_rewards,\n",
    "               exercise_47=False):\n",
    "    curr1_after_move = min(curr_loc1 - num_move, max_cars)\n",
    "    curr2_after_move = min(curr_loc2 + num_move, max_cars)\n",
    "    \n",
    "    val = 0\n",
    "    for future_loc1, future_loc2 in np.ndindex(value_fn.shape):\n",
    "        p = transition_probs[curr1_after_move, curr2_after_move,\n",
    "                             future_loc1, future_loc2]\n",
    "        r = expected_rewards[curr1_after_move, curr2_after_move,\n",
    "                             future_loc1, future_loc2]\n",
    "\n",
    "        \n",
    "        # Note that the expected reward is already weighted by the\n",
    "        # appropriate probabilities of rentals/returns, so it's excluded\n",
    "        # from being multiplied by the state transition probability here.\n",
    "        this_reward = r + p * gamma * value_fn[future_loc1, future_loc2]\n",
    "        val += this_reward\n",
    "        \n",
    "    move_penalty = np.abs(num_move)*move_cost\n",
    "    \n",
    "    # Modifications for exercise 4.7.\n",
    "    if exercise_47:\n",
    "        # Want to allow one car to move for free if cars are being moved\n",
    "        # from the first location to second location\n",
    "        if num_move >= 1:\n",
    "            move_penalty -= move_cost\n",
    "            \n",
    "        # If a location has more than 10 cars at the end of the night\n",
    "        # (i.e. after moving cars), then we incur a $4 penalty.\n",
    "        if curr1_after_move > 10:\n",
    "            val -= 4\n",
    "        if curr2_after_move > 10:\n",
    "            val -= 4\n",
    "\n",
    "    # Add in cost from moving cars.\n",
    "    return val + move_penalty\n",
    "\n",
    "# Run one round of in-place policy evaluation until convergence.\n",
    "def evaluate(value_fn,\n",
    "             policy,\n",
    "             transition_probs,\n",
    "             expected_rewards,\n",
    "             exercise_47=False):\n",
    "    # Store state-value function before policy evaluation so we\n",
    "    # can see if current policy is equivalent to previous one by\n",
    "    # checking the delta for all states. Note that this also answers\n",
    "    # exercise 4.4 (see below for explanation).\n",
    "    prev_value_fn = np.copy(value_fn)\n",
    "    \n",
    "    # Iterate value function evaluation until delta is sufficiently small.\n",
    "    while True:\n",
    "        iter_delta = 0\n",
    "        for curr_loc1, curr_loc2 in np.ndindex(value_fn.shape):\n",
    "            new_val = backup_one(value_fn,\n",
    "                                 policy[curr_loc1, curr_loc2],\n",
    "                                 curr_loc1,\n",
    "                                 curr_loc2,\n",
    "                                 transition_probs,\n",
    "                                 expected_rewards,\n",
    "                                 exercise_47=exercise_47)\n",
    "            iter_delta = max(np.abs(new_val - value_fn[curr_loc1, curr_loc2]),\n",
    "                        iter_delta)\n",
    "\n",
    "            value_fn[curr_loc1, curr_loc2] = new_val\n",
    "       # break\n",
    "        if iter_delta <= 1e-4:\n",
    "            break\n",
    "            \n",
    "    # Check if new policy is equivalent to previous.\n",
    "    return np.all(np.isclose(prev_value_fn, value_fn))\n",
    "\n",
    "# Run one round of policy improvement using greedy best move.\n",
    "def iterate(value_fn,\n",
    "            policy,\n",
    "            transition_probs,\n",
    "            expected_rewards,\n",
    "            exercise_47=False):\n",
    "    # Identify greedy best move for each state. Also check if the policy\n",
    "    # is stable.\n",
    "    is_stable = True\n",
    "    for curr_loc1, curr_loc2 in np.ndindex(value_fn.shape):\n",
    "        best_move = 0\n",
    "        best_val = 0\n",
    "        for num_move in np.arange(-max_move, max_move+1):\n",
    "            # Ignore moves that exceed the number of available cars.\n",
    "            if num_move > curr_loc1 or -num_move > curr_loc2:\n",
    "                continue\n",
    "            \n",
    "            # Expected reward for taking this action from this state.\n",
    "            check_val = backup_one(value_fn,\n",
    "                                   num_move,\n",
    "                                   curr_loc1,\n",
    "                                   curr_loc2,\n",
    "                                   transition_probs,\n",
    "                                   expected_rewards,\n",
    "                                   exercise_47=exercise_47)\n",
    "            \n",
    "            if check_val > best_val:\n",
    "                best_val = check_val\n",
    "                best_move = num_move\n",
    "                \n",
    "        if best_move != policy[curr_loc1, curr_loc2]:\n",
    "            is_stable = False\n",
    "        policy[curr_loc1, curr_loc2] = best_move\n",
    "    return is_stable\n",
    "\n",
    "def policy_iteration(exercise_47=False):\n",
    "    # Precalculate state transition probabilities and expected\n",
    "    # rewards for each state transition.\n",
    "    p, r = calculate_probs_and_rewards()\n",
    "    \n",
    "    # Begin policy iteration\n",
    "    value_fn = np.zeros((d, d))\n",
    "    policy = np.zeros((d, d), dtype=int)\n",
    "    \n",
    "    i = 0\n",
    "    while True:\n",
    "        is_equiv = evaluate(value_fn,\n",
    "                            policy, \n",
    "                            p,\n",
    "                            r,\n",
    "                            exercise_47=exercise_47)\n",
    "        stable_policy = iterate(value_fn,\n",
    "                                policy,\n",
    "                                p,\n",
    "                                r,\n",
    "                                exercise_47=exercise_47)\n",
    "        print(f\"iter {i}: is_equiv={is_equiv}, stable={stable_policy}\")\n",
    "        i += 1\n",
    "        if stable_policy or is_equiv:\n",
    "            break\n",
    "    return value_fn, policy"
   ]
  },
  {
   "cell_type": "code",
   "execution_count": 7,
   "id": "9b08f38b",
   "metadata": {},
   "outputs": [],
   "source": [
    "def plot_heatmap(data, **kwargs):\n",
    "    ax = sns.heatmap(data, **kwargs)\n",
    "    ax.invert_yaxis()\n",
    "    ax.set_xlabel(\"Number of cars at second location\")\n",
    "    ax.set_ylabel(\"Number of cars at first location\")"
   ]
  },
  {
   "cell_type": "code",
   "execution_count": 8,
   "id": "1284b34a",
   "metadata": {},
   "outputs": [
    {
     "name": "stdout",
     "output_type": "stream",
     "text": [
      "iter 0: is_equiv=False, stable=False\n",
      "iter 1: is_equiv=False, stable=False\n",
      "iter 2: is_equiv=False, stable=False\n",
      "iter 3: is_equiv=False, stable=False\n",
      "iter 4: is_equiv=False, stable=False\n",
      "iter 5: is_equiv=True, stable=True\n"
     ]
    }
   ],
   "source": [
    "optimal_v, optimal_p = policy_iteration()"
   ]
  },
  {
   "cell_type": "code",
   "execution_count": 9,
   "id": "f34863de",
   "metadata": {
    "scrolled": true
   },
   "outputs": [
    {
     "data": {
      "image/png": "[encoded data removed]",
      "text/plain": [
       "<Figure size 432x288 with 2 Axes>"
      ]
     },
     "metadata": {
      "needs_background": "light"
     },
     "output_type": "display_data"
    }
   ],
   "source": [
    "plot_heatmap(optimal_p, annot=True)"
   ]
  },
  {
   "cell_type": "code",
   "execution_count": 10,
   "id": "72f88317",
   "metadata": {
    "scrolled": true
   },
   "outputs": [
    {
     "data": {
      "image/png": "[encoded data removed]",
      "text/plain": [
       "<Figure size 432x288 with 2 Axes>"
      ]
     },
     "metadata": {
      "needs_background": "light"
     },
     "output_type": "display_data"
    }
   ],
   "source": [
    "plot_heatmap(optimal_v)"
   ]
  },
  {
   "cell_type": "markdown",
   "id": "81507411",
   "metadata": {},
   "source": [
    "While our exact optimal policy seems as if it differs from that shown in figure 4.2 of the textbook (somewhat hard to tell since we have to guess based off rectangle widths), the overall shape of the policy contours look correct and the final state-value function has the same shape and scale."
   ]
  },
  {
   "cell_type": "markdown",
   "id": "458f43c6",
   "metadata": {},
   "source": [
    "## Exercise 4.4"
   ]
  },
  {
   "cell_type": "markdown",
   "id": "ded95ea3",
   "metadata": {},
   "source": [
    "Note our modification in the policy evaluation step: check if the optimal state-value function for this policy is equal (within some epsilon) to the previous one at all states. By the policy improvement theorem, we know that our state-value function will be strictly increasing throughout the policy iteration process, so if we reach two policies that have equal state-value functions, then we know that both policies are optimal (can also see pg 79 of the textbook for more details)."
   ]
  },
  {
   "cell_type": "markdown",
   "id": "db740d08",
   "metadata": {},
   "source": [
    "## Exercise 4.5"
   ]
  },
  {
   "cell_type": "markdown",
   "id": "5895640a",
   "metadata": {},
   "source": [
    "Defining the policy iteration algorithm for action-values instead of state-values looks overall very similar, with the main difference being that we have to do two loops per evaluation step: a loop over states, and then a loop over the possible actions from each of those states. \n",
    "\n",
    "The update is still an expected return based on the weighted sum of all the possible successor state-action pairs. The improvement part is simpler though, since we can just directly look at which action has the highest value in the current action-value function for the given state, instead of having to essentially recalculate a state-value function for each possible action as we did when performing the algorith on state-values instead.\n",
    "\n",
    "1. Initialization:  \n",
    "$q(s, a) \\in \\mathbb{R}$ and $\\pi(s) \\in \\mathbb{A}(s)$ arbitratily for all $s \\in \\mathbb{S}$\n",
    "\n",
    "\n",
    "2. Policy evaluation:  \n",
    "\n",
    "    Loop:  \n",
    "    $\\Delta \\leftarrow 0$  \n",
    "    For each $s \\in \\mathbb{S}$:  \n",
    "    $~~$For each $a \\in \\mathbb{A}(s)$:  \n",
    "    $~~~~q_{prev} \\leftarrow q(s, a)$  \n",
    "    $~~~~q(s, a) \\leftarrow \\sum_{s', a', r}P(s', a', r|s, a)[r+\\gamma q(s', a']$  \n",
    "    $~~~~\\Delta \\leftarrow max(\\Delta, |q_{prev} - q(s, a)|)$  \n",
    "    until $\\Delta < \\theta$\n",
    "\n",
    "\n",
    "3. Policy improvement:  \n",
    "    $stable \\leftarrow true$  \n",
    "    For each $s \\in \\mathbb{S}$:  \n",
    "    $~~old \\leftarrow \\pi(s)$  \n",
    "    $~~\\pi(s) \\leftarrow argmax_{a}~~q(s, a)$  \n",
    "    $~~$If $old \\neq \\pi(s)$, then $stable \\leftarrow false$  \n",
    "    If $stable$, then stop and return $q \\approx q_{*}$ and $\\pi \\approx \\pi_{*}$; else go to 2"
   ]
  },
  {
   "cell_type": "markdown",
   "id": "3c2232b0",
   "metadata": {},
   "source": [
    "## Exercise 4.6\n",
    "To change the policy iteration algorithm to be $\\epsilon$-soft, we could make the following changes:\n",
    "\n",
    "For the policy improvement step, instead of having the deterministic policy be the argmax action, we would instead set the probability for the argmax action to be 1-$\\epsilon$ and set the probability of the remaining actions to be $\\epsilon /||A(s)||$, where $||A(s)||$ is the number of valid actions from state $s$.\n",
    "\n",
    "For the policy evaluation step, we currently present the updated value as being based on a deterministic action, as shown by the probability in the update step being conditioned on $\\pi(s)$:\n",
    "\n",
    "$V(s) = \\sum_{s', r} p(s', r | s, \\pi(s))[r + \\gamma V(s')]$\n",
    "\n",
    "similar to the discussion in section 1.1 above, we would want to change this to look more like the presentation in David Silver's slides which explicitly shows the probability of taking the action from the given state:\n",
    "\n",
    "$v_{k+1}(s) = \\sum_{a\\in A} \\pi(a|s) (R^{a}_{s} + \\gamma\\sum_{s' \\in S} P^{a}_{ss'}v_{k}(s'))$\n",
    "\n",
    "giving something like:\n",
    "\n",
    "$V(s) = \\sum_{s', a, r} \\pi(a|s)p(s', r | s, a)[r + \\gamma V(s')]$\n",
    "\n",
    "\n",
    "For the initialization, it likely doesn't matter if it changes, but we could make sure to initialize the probability of any valid action from a given state to be non-zero. I say it doesn't matter, since the first policy improvement step would achieve this anyways.\n",
    "\n"
   ]
  },
  {
   "cell_type": "markdown",
   "id": "0d71a2f4",
   "metadata": {},
   "source": [
    "## Exercise 4.7"
   ]
  },
  {
   "cell_type": "markdown",
   "id": "ded83b6a",
   "metadata": {},
   "source": [
    "One of Jack’s employees at the first location\n",
    "rides a bus home each night and lives near the second location. She is happy to shuttle\n",
    "one car to the second location for free. Each additional car still costs $2, as do all cars\n",
    "moved in the other direction. In addition, Jack has limited parking space at each location.\n",
    "If more than 10 cars are kept overnight at a location (after any moving of cars), then an\n",
    "additional cost of \\\\$4 must be incurred to use a second parking lot (independent of how\n",
    "many cars are kept there). "
   ]
  },
  {
   "cell_type": "code",
   "execution_count": 11,
   "id": "c02bb7d5",
   "metadata": {},
   "outputs": [
    {
     "name": "stdout",
     "output_type": "stream",
     "text": [
      "iter 0: is_equiv=False, stable=False\n",
      "iter 1: is_equiv=False, stable=False\n",
      "iter 2: is_equiv=False, stable=False\n",
      "iter 3: is_equiv=False, stable=False\n",
      "iter 4: is_equiv=False, stable=True\n"
     ]
    }
   ],
   "source": [
    "optimal_v_47, optimal_p_47 = policy_iteration(exercise_47=True)"
   ]
  },
  {
   "cell_type": "code",
   "execution_count": 12,
   "id": "5f9071c4",
   "metadata": {
    "scrolled": true
   },
   "outputs": [
    {
     "data": {
      "image/png": "[encoded data removed]",
      "text/plain": [
       "<Figure size 432x288 with 2 Axes>"
      ]
     },
     "metadata": {
      "needs_background": "light"
     },
     "output_type": "display_data"
    }
   ],
   "source": [
    "plot_heatmap(optimal_p_47, annot=True)"
   ]
  },
  {
   "cell_type": "code",
   "execution_count": 13,
   "id": "6c5b4f6b",
   "metadata": {
    "scrolled": true
   },
   "outputs": [
    {
     "data": {
      "image/png": "[encoded data removed]",
      "text/plain": [
       "<Figure size 432x288 with 2 Axes>"
      ]
     },
     "metadata": {
      "needs_background": "light"
     },
     "output_type": "display_data"
    }
   ],
   "source": [
    "plot_heatmap(optimal_v_47)"
   ]
  },
  {
   "cell_type": "markdown",
   "id": "f82f1647",
   "metadata": {},
   "source": [
    "Not totally sure if the above results are correct, but we do see some changes in the policy that are consistent with what we might expect:\n",
    " - Looking at verticals and horizontals near 10, we see that the policy is to move cars between locations to try to keep the other location at exactly 10 cars at the end of the night, consistent with the extra cost of having  greater than 10 cars at a location overnight\n",
    " - Much more aggressive at moving a single car to the second location since it's free\n",
    " - When both locations are at 11 cars, favors moving one to the second location to take the penalty there, again because moving a single car to the second location is free\n",
    " \n",
    "Another interesting thing to me is that the state-value function is still relatively smooth, i.e. no large jumps around 10 for either location. This could either be a bug in my code, or it could be that since the policy is generally trying to avoid the penalty for having more than 10 cars at a location, we still see a relatively smooth state-value function."
   ]
  },
  {
   "cell_type": "markdown",
   "id": "afae9e43",
   "metadata": {},
   "source": [
    "# Gambler's Problem"
   ]
  },
  {
   "cell_type": "markdown",
   "id": "5421565a",
   "metadata": {},
   "source": [
    "In this section we write a solution to the problem given in Example 4.2, in which a gambler plays a game where they place a wager on a biased coin flip. If the coin comes up heads, they double their wager, if it comes up tails, then they lose their wager. The problem to solve here is to calculate the optimal policy given that the gambler gets a reward of 1 if they can accumulate \\\\$100, and 0 reward otherwise. The two terminal states are thus 0 and 100.\n",
    "\n",
    "We solve this problem via value iteration."
   ]
  },
  {
   "cell_type": "markdown",
   "id": "0a11d5a1",
   "metadata": {},
   "source": [
    "## Initial solution"
   ]
  },
  {
   "cell_type": "code",
   "execution_count": 15,
   "id": "13bdccc6",
   "metadata": {},
   "outputs": [],
   "source": [
    "# Precision for value iteration.\n",
    "eps = 1e-9\n",
    "\n",
    "# Perform the full value iteration algorithm.\n",
    "def value_iterate(end_val=100,\n",
    "                  p_heads=0.4):\n",
    "    value_fn = np.zeros(end_val+1)\n",
    "    value_fn[end_val] = 1\n",
    "    \n",
    "    i = 0\n",
    "    while True:\n",
    "        delta = single_iterate(value_fn,\n",
    "                               end_val=end_val, \n",
    "                               p_heads=p_heads)\n",
    "        if delta < eps:\n",
    "            break\n",
    "        i += 1\n",
    "    print(f\"num_iters: {i}\")\n",
    "    return value_fn\n",
    "\n",
    "\n",
    "# Perform single iteration of the value iteration algorithm.\n",
    "def single_iterate(value_fn, end_val=100, p_heads=0.4):\n",
    "    max_delta = 0\n",
    "    for state in np.arange(end_val):\n",
    "        \n",
    "        possible_wagers = np.arange(0, min(state, end_val-state)+1)\n",
    "        \n",
    "        max_val = 0\n",
    "        for w in possible_wagers:\n",
    "            max_val = max(calc_wager_value(value_fn, state, w, p_heads=p_heads), max_val)\n",
    "                \n",
    "        max_delta = max(np.abs(max_val - value_fn[state]), max_delta)\n",
    "            \n",
    "        value_fn[state] = max_val\n",
    "    return max_delta\n",
    "\n",
    "# Calculate the state-action value for a single wager given the current state.\n",
    "# Note that the main reason for splitting this out is for the exploration\n",
    "# that we'll do later.\n",
    "def calc_wager_value(value_fn, state, wager, p_heads=0.4):\n",
    "    win_state = state + wager\n",
    "    lose_state = state - wager\n",
    "\n",
    "    return (1-p_heads)*value_fn[lose_state] + p_heads*value_fn[win_state]\n",
    "\n",
    "\n",
    "# Generate an optimal policy from the optimal state-value function.\n",
    "def policy_from_value(value_fn, end_val=100, p_heads=0.4):\n",
    "    # Note -1 since value function has an entry for state 100, which\n",
    "    # we can't actually reach since we \"win\" and terminate at that point.\n",
    "    policy = np.zeros(end_val)\n",
    "    for state in np.arange(end_val):\n",
    "        best_val = 0\n",
    "        best_wager = 0\n",
    "        # Note that we exclude the action of making no wager, since \n",
    "        # this by definition will be tied for any other optimal action,\n",
    "        # but isn't actually a useful action.\n",
    "        for wager in  np.arange(1, min(state, end_val-state)+1):\n",
    "            wager_val = calc_wager_value(value_fn,\n",
    "                                         state,\n",
    "                                         wager,\n",
    "                                         p_heads=p_heads)\n",
    "            if (wager_val - best_val) > eps:\n",
    "                best_val = wager_val\n",
    "                best_wager = wager\n",
    "        policy[state] = best_wager\n",
    "    return policy\n",
    "\n",
    "def run_and_plot(end_val=100,\n",
    "                 p_heads=0.4):\n",
    "    value_fn = value_iterate(end_val=end_val, p_heads=p_heads)\n",
    "    policy = policy_from_value(value_fn, end_val=end_val, p_heads=p_heads)\n",
    "    \n",
    "    fig, axs = plt.subplots(2, 1, sharex=True, figsize=(6, 9))\n",
    "    axs[0].plot(np.arange(end_val+1), value_fn)\n",
    "    axs[0].set_ylabel(\"Value\")\n",
    "    axs[1].scatter(np.arange(end_val), policy)\n",
    "    axs[1].set_ylabel(\"Wager\")\n",
    "    axs[1].set_xlabel(\"State\")\n",
    "    \n",
    "    return value_fn, policy"
   ]
  },
  {
   "cell_type": "code",
   "execution_count": 16,
   "id": "5840f7d5",
   "metadata": {},
   "outputs": [
    {
     "name": "stdout",
     "output_type": "stream",
     "text": [
      "num_iters: 16\n"
     ]
    },
    {
     "data": {
      "image/png": "[encoded data removed]",
      "text/plain": [
       "<Figure size 432x648 with 2 Axes>"
      ]
     },
     "metadata": {
      "needs_background": "light"
     },
     "output_type": "display_data"
    }
   ],
   "source": [
    "final_v, policy = run_and_plot()"
   ]
  },
  {
   "cell_type": "markdown",
   "id": "c271331b",
   "metadata": {},
   "source": [
    "### Thoughts"
   ]
  },
  {
   "cell_type": "markdown",
   "id": "770f0ec0",
   "metadata": {},
   "source": [
    "An interesting thing to observe is the jumps in the state-value function at 25, 50, and 75. Intuitively, this somewhat makes sense, since those are the values at which the integer number of bets we have to win to reach 100 changes in a \"significant\" way. By zooming in on the state-value function, we can actually also see a similar jump at 13 as well.\n",
    "\n",
    "For example at states < 25, we need at least 3 wins in a row to reach 100, but at states 25 <= s < 50 we can reach 100 in 2 wins in a row, etc."
   ]
  },
  {
   "cell_type": "code",
   "execution_count": 17,
   "id": "8d61dbc0",
   "metadata": {
    "scrolled": true
   },
   "outputs": [
    {
     "data": {
      "image/png": "[encoded data removed]",
      "text/plain": [
       "<Figure size 432x288 with 1 Axes>"
      ]
     },
     "metadata": {
      "needs_background": "light"
     },
     "output_type": "display_data"
    }
   ],
   "source": [
    "plt.plot(np.arange(25), final_v[:25])\n",
    "plt.xlabel(\"State\")\n",
    "_ = plt.ylabel(\"Value\")"
   ]
  },
  {
   "cell_type": "markdown",
   "id": "8f8921cf",
   "metadata": {},
   "source": [
    "This jump in the state value function at states that indicate a different number of wins required to reach the end value also so plays out if we change the end value:"
   ]
  },
  {
   "cell_type": "code",
   "execution_count": 18,
   "id": "51fc5e76",
   "metadata": {
    "scrolled": false
   },
   "outputs": [
    {
     "name": "stdout",
     "output_type": "stream",
     "text": [
      "num_iters: 19\n"
     ]
    },
    {
     "data": {
      "image/png": "[encoded data removed]",
      "text/plain": [
       "<Figure size 432x648 with 2 Axes>"
      ]
     },
     "metadata": {
      "needs_background": "light"
     },
     "output_type": "display_data"
    }
   ],
   "source": [
    "final_v_120, policy_120 = run_and_plot(end_val=120)"
   ]
  },
  {
   "cell_type": "markdown",
   "id": "10ee020d",
   "metadata": {},
   "source": [
    "The textbook also asks \"there is a whole family of optimal policies, all corresponding to ties for the argmax action selection with respect to the optimal value function. Can you guess what the entire family looks like?\"\n",
    "\n",
    "It seems like there's one trivial family of optimal policies and one interesting one. The trivial family is just any policies where the action at a given state is to bet nothing, since that's technically an allowed action in the problem setup. Since the definition of the state-value function is the maximum return we can achieve from this state if we behave optimally, then the action that always leads us back to our current state (i.e. wagering zero) will always be tied with the optimal action that takes us to a different state.\n",
    "\n",
    "The interesting family of optimal policies is that for each state greater than 13, there's actually a tie for the optimal action, where the alternative action is to just wager everything if the state is less than 50 or wager enough to immediately win if the state is greater than 50. We can see this with the following modified code for calculating a policy from the optimal state-value function:"
   ]
  },
  {
   "cell_type": "code",
   "execution_count": 22,
   "id": "1d2223fa",
   "metadata": {},
   "outputs": [],
   "source": [
    "def policy_from_value_reversed(value_fn, end_val=100):\n",
    "    policy = np.zeros(end_val)\n",
    "    for state in np.arange(end_val):\n",
    "        best_val = 0\n",
    "        best_wager = 0\n",
    "        # The only difference here is that we reverse the order in\n",
    "        # which we consider the possible actions, leading to the\n",
    "        # larger value being selected in the case of a tie.\n",
    "        for wager in reversed(np.arange(1, min(state, end_val-state)+1)):\n",
    "            wager_val = calc_wager_value(value_fn, state, wager)\n",
    "            if (wager_val - best_val) > eps:\n",
    "                best_val = wager_val\n",
    "                best_wager = wager\n",
    "        policy[state] = best_wager\n",
    "    return policy"
   ]
  },
  {
   "cell_type": "code",
   "execution_count": 23,
   "id": "22ed67e9",
   "metadata": {},
   "outputs": [],
   "source": [
    "other_policy = policy_from_value_reversed(final_v)"
   ]
  },
  {
   "cell_type": "code",
   "execution_count": 25,
   "id": "e04d38e0",
   "metadata": {},
   "outputs": [
    {
     "data": {
      "image/png": "[encoded data removed]",
      "text/plain": [
       "<Figure size 432x288 with 1 Axes>"
      ]
     },
     "metadata": {
      "needs_background": "light"
     },
     "output_type": "display_data"
    }
   ],
   "source": [
    "plt.scatter(np.arange(100), other_policy)\n",
    "plt.xlabel(\"State\")\n",
    "_ = plt.ylabel(\"Optimal wager\")"
   ]
  },
  {
   "cell_type": "markdown",
   "id": "f54c6357",
   "metadata": {},
   "source": [
    "So we can see that the interesting shaped policy presented initially is a valid optimal policy, albeit slightly less intuitive than the one that just attempts to win as fast possible."
   ]
  },
  {
   "cell_type": "markdown",
   "id": "b374a5ff",
   "metadata": {},
   "source": [
    "## Exercise 4.8"
   ]
  },
  {
   "cell_type": "markdown",
   "id": "4fbce2f6",
   "metadata": {},
   "source": [
    "The above demonstration of alternate optimal policies is useful context for answering this question. We can see that if we currently have \\\\$51, then betting \\\\$1 or \\\\$49 are both optimal actions. We can also see that by plotting the action-value function for each possible wager given that we currently have \\\\$51:"
   ]
  },
  {
   "cell_type": "code",
   "execution_count": 26,
   "id": "43bb96f3",
   "metadata": {},
   "outputs": [],
   "source": [
    "def plot_action_value(value_fn, state, p_heads=0.4):\n",
    "    max_check = min(state, 100-state)\n",
    "    x = np.arange(0, max_check+1)\n",
    "    y = [calc_wager_value(value_fn, state, i, p_heads=p_heads) for i in x]\n",
    "    plt.scatter(x, y)"
   ]
  },
  {
   "cell_type": "code",
   "execution_count": 27,
   "id": "99072fbe",
   "metadata": {},
   "outputs": [
    {
     "data": {
      "image/png": "[encoded data removed]",
      "text/plain": [
       "<Figure size 432x288 with 1 Axes>"
      ]
     },
     "metadata": {
      "needs_background": "light"
     },
     "output_type": "display_data"
    }
   ],
   "source": [
    "plot_action_value(final_v, 51)"
   ]
  },
  {
   "cell_type": "markdown",
   "id": "4da232ed",
   "metadata": {},
   "source": [
    "There's also a very interesting symmetry around 25, i.e. that betting 1 is just as good as betting 49, or betting 2 is just as good as betting 48, and so on. While I don't have a mathematical proof for this, we can see that this plays out for other states as well as other jumps in the state value function, i.e. here we can see the same symmetry around 12.5 if our current state was 19:"
   ]
  },
  {
   "cell_type": "code",
   "execution_count": 28,
   "id": "c4078130",
   "metadata": {},
   "outputs": [
    {
     "data": {
      "image/png": "[encoded data removed]",
      "text/plain": [
       "<Figure size 432x288 with 1 Axes>"
      ]
     },
     "metadata": {
      "needs_background": "light"
     },
     "output_type": "display_data"
    }
   ],
   "source": [
    "plot_action_value(final_v, 19)"
   ]
  },
  {
   "cell_type": "markdown",
   "id": "c21566df",
   "metadata": {},
   "source": [
    "## Exercise 4.9"
   ]
  },
  {
   "cell_type": "markdown",
   "id": "6b6b247f",
   "metadata": {},
   "source": [
    "### p(heads) = 0.25"
   ]
  },
  {
   "cell_type": "code",
   "execution_count": 29,
   "id": "0031db22",
   "metadata": {},
   "outputs": [
    {
     "name": "stdout",
     "output_type": "stream",
     "text": [
      "num_iters: 13\n"
     ]
    },
    {
     "data": {
      "image/png": "[encoded data removed]",
      "text/plain": [
       "<Figure size 432x648 with 2 Axes>"
      ]
     },
     "metadata": {
      "needs_background": "light"
     },
     "output_type": "display_data"
    }
   ],
   "source": [
    "final_v_025, policy_025 = run_and_plot(p_heads=0.25)"
   ]
  },
  {
   "cell_type": "code",
   "execution_count": 30,
   "id": "cfd71175",
   "metadata": {},
   "outputs": [
    {
     "data": {
      "image/png": "[encoded data removed]",
      "text/plain": [
       "<Figure size 432x288 with 1 Axes>"
      ]
     },
     "metadata": {
      "needs_background": "light"
     },
     "output_type": "display_data"
    }
   ],
   "source": [
    "plot_action_value(final_v_025, 19, p_heads=0.25)"
   ]
  },
  {
   "cell_type": "markdown",
   "id": "7e7b2e6e",
   "metadata": {},
   "source": [
    "### p(heads) = 0.55"
   ]
  },
  {
   "cell_type": "code",
   "execution_count": 31,
   "id": "676602f0",
   "metadata": {},
   "outputs": [
    {
     "name": "stdout",
     "output_type": "stream",
     "text": [
      "num_iters: 1627\n"
     ]
    },
    {
     "data": {
      "image/png": "[encoded data removed]",
      "text/plain": [
       "<Figure size 432x648 with 2 Axes>"
      ]
     },
     "metadata": {
      "needs_background": "light"
     },
     "output_type": "display_data"
    }
   ],
   "source": [
    "final_v_055, policy_055 = run_and_plot(p_heads=0.55)"
   ]
  },
  {
   "cell_type": "code",
   "execution_count": 32,
   "id": "f9d7736e",
   "metadata": {},
   "outputs": [
    {
     "data": {
      "image/png": "[encoded data removed]",
      "text/plain": [
       "<Figure size 432x288 with 1 Axes>"
      ]
     },
     "metadata": {
      "needs_background": "light"
     },
     "output_type": "display_data"
    }
   ],
   "source": [
    "plot_action_value(final_v_055, 19, p_heads=0.55)"
   ]
  },
  {
   "cell_type": "markdown",
   "id": "d33fed07",
   "metadata": {},
   "source": [
    "### Thoughts"
   ]
  },
  {
   "cell_type": "markdown",
   "id": "b963fc67",
   "metadata": {},
   "source": [
    "We see some some interesting effects from changing the probability of heads. When p(heads)=0.25, we see the same shape of the action-value function from a given state, and also see the same jumps in the state-value function at states that change the integer number of wins to reach the end value.\n",
    "\n",
    "On the flip side, when p(heads) = 0.55, we favor just betting a single dollar each time, since on average we'll win more than we'll lose, so there's no point in making big bets and possibly losing a lot of money.\n",
    "\n",
    "Side note, I did also run this with decreasing epsilon down to 1e-15 and saw stable results."
   ]
  },
  {
   "cell_type": "markdown",
   "id": "cf3a71ad",
   "metadata": {},
   "source": [
    "## Exercise 4.10"
   ]
  },
  {
   "cell_type": "markdown",
   "id": "65def6fa",
   "metadata": {},
   "source": [
    "Similar to the how policy iteration was analogous to the Bellman expectation equation whereas value iteration was analogous to the Bellamn optimality equation, we can write value iteration in terms of action-value functions by using the Bellman optimality equation for action-values: \n",
    "\n",
    "$q_{*}(s, a) = \\sum_{s', r}p(s', r | s, a) [r + max_{a'}q_{*}(s', a')]$\n",
    "\n",
    "giving us the following update for action-values in a value iteration algorithm:\n",
    "\n",
    "$q(s, a) = \\sum_{s', r}p(s', r | s, a) [r + max_{a'}q(s', a')]$\n",
    "\n",
    "Note that this is the exact same equation except with our current estimate of the action-value function $q(s,a)$ instead of the optimal action-value function $q_{*}(s, a)$."
   ]
  }
 ],
 "metadata": {
  "kernelspec": {
   "display_name": "Python 3 (ipykernel)",
   "language": "python",
   "name": "python3"
  },
  "language_info": {
   "codemirror_mode": {
    "name": "ipython",
    "version": 3
   },
   "file_extension": ".py",
   "mimetype": "text/x-python",
   "name": "python",
   "nbconvert_exporter": "python",
   "pygments_lexer": "ipython3",
   "version": "3.9.10"
  },
  "toc": {
   "base_numbering": 1,
   "nav_menu": {},
   "number_sections": true,
   "sideBar": true,
   "skip_h1_title": false,
   "title_cell": "Table of Contents",
   "title_sidebar": "Contents",
   "toc_cell": false,
   "toc_position": {},
   "toc_section_display": true,
   "toc_window_display": true
  }
 },
 "nbformat": 4,
 "nbformat_minor": 5
}
